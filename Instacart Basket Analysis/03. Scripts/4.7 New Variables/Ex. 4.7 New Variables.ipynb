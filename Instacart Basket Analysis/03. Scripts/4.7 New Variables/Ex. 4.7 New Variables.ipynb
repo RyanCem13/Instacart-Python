{
 "cells": [
  {
   "cell_type": "markdown",
   "id": "4bd41430",
   "metadata": {},
   "source": [
    "# 4.7: Deriving New Variables"
   ]
  },
  {
   "cell_type": "markdown",
   "id": "eabe2ddf",
   "metadata": {},
   "source": [
    "Content List:\n",
    "1. Import Libraries, Create Path and Import Datasets\n",
    "2. Create Product Price Labels\n",
    "3. Create Busy Day Labels\n",
    "4. Create New Busy Day Labels\n",
    "5. Create Busy Period of Day Labels\n",
    "6. Export Updated Dataset"
   ]
  },
  {
   "cell_type": "markdown",
   "id": "c0652eb2",
   "metadata": {},
   "source": [
    "1. Import Libraries, Create Path and Import Datasets"
   ]
  },
  {
   "cell_type": "code",
   "execution_count": 1,
   "id": "8f1aefcc",
   "metadata": {},
   "outputs": [],
   "source": [
    "#Importing Libraries\n",
    "import pandas as pd\n",
    "import numpy as nb\n",
    "import os"
   ]
  },
  {
   "cell_type": "code",
   "execution_count": 2,
   "id": "f8467680",
   "metadata": {},
   "outputs": [],
   "source": [
    "#Create Path\n",
    "path = r'C:\\Users\\ryanc\\OneDrive\\Documents\\Data Analytics Exercises\\Python\\Instacart Basket Analysis'"
   ]
  },
  {
   "cell_type": "code",
   "execution_count": 3,
   "id": "43c0e91f",
   "metadata": {},
   "outputs": [],
   "source": [
    "#Import order products merged df\n",
    "ords_prods_merged = pd.read_pickle(os.path.join(path, '02 Data', 'Prepared Data', 'orders_products_merged.pkl'))"
   ]
  },
  {
   "cell_type": "markdown",
   "id": "e9ca1640",
   "metadata": {},
   "source": [
    "2. Create Product Price Labels"
   ]
  },
  {
   "cell_type": "code",
   "execution_count": 5,
   "id": "8f489228",
   "metadata": {},
   "outputs": [],
   "source": [
    "#Create High Range Product Label\n",
    "ords_prods_merged.loc[ords_prods_merged['prices'] > 15, 'price_range_loc'] = 'High-range product'"
   ]
  },
  {
   "cell_type": "code",
   "execution_count": 6,
   "id": "435dde82",
   "metadata": {},
   "outputs": [],
   "source": [
    "#Create Mid Range Range Product Label\n",
    "ords_prods_merged.loc[(ords_prods_merged['prices'] <= 15) & (ords_prods_merged['prices'] > 5), 'price_range_loc'] = 'Mid-range product' "
   ]
  },
  {
   "cell_type": "code",
   "execution_count": 7,
   "id": "b189f7d7",
   "metadata": {},
   "outputs": [],
   "source": [
    "#Create Low Range Product Label\n",
    "ords_prods_merged.loc[ords_prods_merged['prices'] <= 5, 'price_range_loc'] = 'Low-range product'"
   ]
  },
  {
   "cell_type": "code",
   "execution_count": 8,
   "id": "205fa337",
   "metadata": {
    "scrolled": true
   },
   "outputs": [
    {
     "data": {
      "text/plain": [
       "price_range_loc\n",
       "Mid-range product     21860860\n",
       "Low-range product     10126321\n",
       "High-range product      417678\n",
       "Name: count, dtype: int64"
      ]
     },
     "execution_count": 8,
     "metadata": {},
     "output_type": "execute_result"
    }
   ],
   "source": [
    "#View value counts of new labels\n",
    "ords_prods_merged['price_range_loc'].value_counts(dropna = False)"
   ]
  },
  {
   "cell_type": "markdown",
   "id": "265cd5ab",
   "metadata": {},
   "source": [
    "3. Create Busy Day labels"
   ]
  },
  {
   "cell_type": "code",
   "execution_count": 9,
   "id": "385e2eb2",
   "metadata": {},
   "outputs": [
    {
     "data": {
      "text/plain": [
       "order_dow\n",
       "0    6204182\n",
       "1    5660230\n",
       "6    4496490\n",
       "2    4213830\n",
       "5    4205791\n",
       "3    3840534\n",
       "4    3783802\n",
       "Name: count, dtype: int64"
      ]
     },
     "execution_count": 9,
     "metadata": {},
     "output_type": "execute_result"
    }
   ],
   "source": [
    "#View frequency of order days of the week\n",
    "ords_prods_merged['order_dow'].value_counts(dropna = False)"
   ]
  },
  {
   "cell_type": "code",
   "execution_count": 11,
   "id": "13f3fa04",
   "metadata": {},
   "outputs": [],
   "source": [
    "#Assign labels for days of the week based on how busy they are\n",
    "result = []\n",
    "\n",
    "for value in ords_prods_merged[\"order_dow\"]:\n",
    "  if value == 0:\n",
    "    result.append(\"Busiest day\")\n",
    "  elif value == 4:\n",
    "    result.append(\"Least busy\")\n",
    "  else:\n",
    "    result.append(\"Regularly busy\")"
   ]
  },
  {
   "cell_type": "code",
   "execution_count": 12,
   "id": "a6360bcd",
   "metadata": {},
   "outputs": [],
   "source": [
    "#create new column 'busiest_day' for these new labels\n",
    "ords_prods_merged['busiest_day'] = result"
   ]
  },
  {
   "cell_type": "code",
   "execution_count": 13,
   "id": "8e2a94b7",
   "metadata": {
    "scrolled": true
   },
   "outputs": [
    {
     "data": {
      "text/plain": [
       "busiest_day\n",
       "Regularly busy    22416875\n",
       "Busiest day        6204182\n",
       "Least busy         3783802\n",
       "Name: count, dtype: int64"
      ]
     },
     "execution_count": 13,
     "metadata": {},
     "output_type": "execute_result"
    }
   ],
   "source": [
    "#View frequency of busiest_day labels\n",
    "ords_prods_merged['busiest_day'].value_counts(dropna = False)"
   ]
  },
  {
   "cell_type": "markdown",
   "id": "e5011f99",
   "metadata": {},
   "source": [
    "4. Create New Busy Day Labels"
   ]
  },
  {
   "cell_type": "code",
   "execution_count": 18,
   "id": "655361eb",
   "metadata": {},
   "outputs": [],
   "source": [
    "##Question 2\n",
    "#Change busiest days labels to include the 2 busiest days and the 2 slowest days\n",
    "new_result = []\n",
    "\n",
    "for value in ords_prods_merged[\"order_dow\"]:\n",
    "  if value == 0 or value == 1:\n",
    "    new_result.append(\"Busiest days\")\n",
    "  elif value == 4 or value == 3:\n",
    "    new_result.append(\"Slowest Days\")\n",
    "  else:\n",
    "    new_result.append(\"Regularly Busy days\")"
   ]
  },
  {
   "cell_type": "code",
   "execution_count": 19,
   "id": "8bc47bb2",
   "metadata": {},
   "outputs": [],
   "source": [
    "#Create new column for new busiest days labels\n",
    "ords_prods_merged['new_busiest_days'] = new_result"
   ]
  },
  {
   "cell_type": "code",
   "execution_count": 20,
   "id": "f46d84e2",
   "metadata": {},
   "outputs": [
    {
     "data": {
      "text/plain": [
       "new_busiest_days\n",
       "Regularly Busy days    12916111\n",
       "Busiest days           11864412\n",
       "Slowest Days            7624336\n",
       "Name: count, dtype: int64"
      ]
     },
     "execution_count": 20,
     "metadata": {},
     "output_type": "execute_result"
    }
   ],
   "source": [
    "#View frequency of new_busiest_days labels\n",
    "ords_prods_merged['new_busiest_days'].value_counts(dropna = False)"
   ]
  },
  {
   "cell_type": "markdown",
   "id": "03bc36af",
   "metadata": {},
   "source": [
    "#Question 3: As we already know the values for how busy each day of the week is we can easily check our values to ensure they add up. The 2 slowest days are days 3 and 4 and correctly add up to 7,624,336 for our new \"slowest_days\" label. Days 0 and 1 are the busiest days and correctly add up 11,864,412. While the remaining days of Day 2, 5 and 6 add up to our \"regularly_busy_days label at 12,916,111. This simple math ensures we have our values correct. "
   ]
  },
  {
   "cell_type": "code",
   "execution_count": 21,
   "id": "701d0d3c",
   "metadata": {
    "scrolled": true
   },
   "outputs": [
    {
     "data": {
      "text/html": [
       "<div>\n",
       "<style scoped>\n",
       "    .dataframe tbody tr th:only-of-type {\n",
       "        vertical-align: middle;\n",
       "    }\n",
       "\n",
       "    .dataframe tbody tr th {\n",
       "        vertical-align: top;\n",
       "    }\n",
       "\n",
       "    .dataframe thead th {\n",
       "        text-align: right;\n",
       "    }\n",
       "</style>\n",
       "<table border=\"1\" class=\"dataframe\">\n",
       "  <thead>\n",
       "    <tr style=\"text-align: right;\">\n",
       "      <th></th>\n",
       "      <th>product_id</th>\n",
       "      <th>product_name</th>\n",
       "      <th>aisle_id</th>\n",
       "      <th>department_id</th>\n",
       "      <th>prices</th>\n",
       "      <th>order_id</th>\n",
       "      <th>user_id</th>\n",
       "      <th>eval_set</th>\n",
       "      <th>order_number</th>\n",
       "      <th>order_dow</th>\n",
       "      <th>order_hour_of_day</th>\n",
       "      <th>days_since_prior_order</th>\n",
       "      <th>add_to_cart_order</th>\n",
       "      <th>reordered</th>\n",
       "      <th>_merge</th>\n",
       "      <th>price_range_loc</th>\n",
       "      <th>busiest_day</th>\n",
       "      <th>new_busiest_days</th>\n",
       "    </tr>\n",
       "  </thead>\n",
       "  <tbody>\n",
       "    <tr>\n",
       "      <th>0</th>\n",
       "      <td>1</td>\n",
       "      <td>Chocolate Sandwich Cookies</td>\n",
       "      <td>61</td>\n",
       "      <td>19</td>\n",
       "      <td>5.8</td>\n",
       "      <td>3139998</td>\n",
       "      <td>138</td>\n",
       "      <td>prior</td>\n",
       "      <td>28</td>\n",
       "      <td>6</td>\n",
       "      <td>11</td>\n",
       "      <td>3.0</td>\n",
       "      <td>5</td>\n",
       "      <td>0</td>\n",
       "      <td>both</td>\n",
       "      <td>Mid-range product</td>\n",
       "      <td>Regularly busy</td>\n",
       "      <td>Regularly Busy days</td>\n",
       "    </tr>\n",
       "    <tr>\n",
       "      <th>1</th>\n",
       "      <td>1</td>\n",
       "      <td>Chocolate Sandwich Cookies</td>\n",
       "      <td>61</td>\n",
       "      <td>19</td>\n",
       "      <td>5.8</td>\n",
       "      <td>1977647</td>\n",
       "      <td>138</td>\n",
       "      <td>prior</td>\n",
       "      <td>30</td>\n",
       "      <td>6</td>\n",
       "      <td>17</td>\n",
       "      <td>20.0</td>\n",
       "      <td>1</td>\n",
       "      <td>1</td>\n",
       "      <td>both</td>\n",
       "      <td>Mid-range product</td>\n",
       "      <td>Regularly busy</td>\n",
       "      <td>Regularly Busy days</td>\n",
       "    </tr>\n",
       "    <tr>\n",
       "      <th>2</th>\n",
       "      <td>1</td>\n",
       "      <td>Chocolate Sandwich Cookies</td>\n",
       "      <td>61</td>\n",
       "      <td>19</td>\n",
       "      <td>5.8</td>\n",
       "      <td>389851</td>\n",
       "      <td>709</td>\n",
       "      <td>prior</td>\n",
       "      <td>2</td>\n",
       "      <td>0</td>\n",
       "      <td>21</td>\n",
       "      <td>6.0</td>\n",
       "      <td>20</td>\n",
       "      <td>0</td>\n",
       "      <td>both</td>\n",
       "      <td>Mid-range product</td>\n",
       "      <td>Busiest day</td>\n",
       "      <td>Busiest days</td>\n",
       "    </tr>\n",
       "    <tr>\n",
       "      <th>3</th>\n",
       "      <td>1</td>\n",
       "      <td>Chocolate Sandwich Cookies</td>\n",
       "      <td>61</td>\n",
       "      <td>19</td>\n",
       "      <td>5.8</td>\n",
       "      <td>652770</td>\n",
       "      <td>764</td>\n",
       "      <td>prior</td>\n",
       "      <td>1</td>\n",
       "      <td>3</td>\n",
       "      <td>13</td>\n",
       "      <td>NaN</td>\n",
       "      <td>10</td>\n",
       "      <td>0</td>\n",
       "      <td>both</td>\n",
       "      <td>Mid-range product</td>\n",
       "      <td>Regularly busy</td>\n",
       "      <td>Slowest Days</td>\n",
       "    </tr>\n",
       "    <tr>\n",
       "      <th>4</th>\n",
       "      <td>1</td>\n",
       "      <td>Chocolate Sandwich Cookies</td>\n",
       "      <td>61</td>\n",
       "      <td>19</td>\n",
       "      <td>5.8</td>\n",
       "      <td>1813452</td>\n",
       "      <td>764</td>\n",
       "      <td>prior</td>\n",
       "      <td>3</td>\n",
       "      <td>4</td>\n",
       "      <td>17</td>\n",
       "      <td>9.0</td>\n",
       "      <td>11</td>\n",
       "      <td>1</td>\n",
       "      <td>both</td>\n",
       "      <td>Mid-range product</td>\n",
       "      <td>Least busy</td>\n",
       "      <td>Slowest Days</td>\n",
       "    </tr>\n",
       "  </tbody>\n",
       "</table>\n",
       "</div>"
      ],
      "text/plain": [
       "   product_id                product_name  aisle_id  department_id  prices  \\\n",
       "0           1  Chocolate Sandwich Cookies        61             19     5.8   \n",
       "1           1  Chocolate Sandwich Cookies        61             19     5.8   \n",
       "2           1  Chocolate Sandwich Cookies        61             19     5.8   \n",
       "3           1  Chocolate Sandwich Cookies        61             19     5.8   \n",
       "4           1  Chocolate Sandwich Cookies        61             19     5.8   \n",
       "\n",
       "   order_id  user_id eval_set  order_number  order_dow  order_hour_of_day  \\\n",
       "0   3139998      138    prior            28          6                 11   \n",
       "1   1977647      138    prior            30          6                 17   \n",
       "2    389851      709    prior             2          0                 21   \n",
       "3    652770      764    prior             1          3                 13   \n",
       "4   1813452      764    prior             3          4                 17   \n",
       "\n",
       "   days_since_prior_order  add_to_cart_order  reordered _merge  \\\n",
       "0                     3.0                  5          0   both   \n",
       "1                    20.0                  1          1   both   \n",
       "2                     6.0                 20          0   both   \n",
       "3                     NaN                 10          0   both   \n",
       "4                     9.0                 11          1   both   \n",
       "\n",
       "     price_range_loc     busiest_day     new_busiest_days  \n",
       "0  Mid-range product  Regularly busy  Regularly Busy days  \n",
       "1  Mid-range product  Regularly busy  Regularly Busy days  \n",
       "2  Mid-range product     Busiest day         Busiest days  \n",
       "3  Mid-range product  Regularly busy         Slowest Days  \n",
       "4  Mid-range product      Least busy         Slowest Days  "
      ]
     },
     "execution_count": 21,
     "metadata": {},
     "output_type": "execute_result"
    }
   ],
   "source": [
    "#View our data\n",
    "ords_prods_merged.head()"
   ]
  },
  {
   "cell_type": "markdown",
   "id": "35ffd6eb",
   "metadata": {},
   "source": [
    "5. Create Busy Period of Day Labels"
   ]
  },
  {
   "cell_type": "code",
   "execution_count": 22,
   "id": "3dacf0d0",
   "metadata": {},
   "outputs": [
    {
     "data": {
      "text/plain": [
       "order_hour_of_day\n",
       "10    2761760\n",
       "11    2736140\n",
       "14    2689136\n",
       "15    2662144\n",
       "13    2660954\n",
       "12    2618532\n",
       "16    2535202\n",
       "9     2454203\n",
       "17    2087654\n",
       "8     1718118\n",
       "18    1636502\n",
       "19    1258305\n",
       "20     976156\n",
       "7      891054\n",
       "21     795637\n",
       "22     634225\n",
       "23     402316\n",
       "6      290493\n",
       "0      218769\n",
       "1      115700\n",
       "5       87961\n",
       "2       69375\n",
       "4       53242\n",
       "3       51281\n",
       "Name: count, dtype: int64"
      ]
     },
     "execution_count": 22,
     "metadata": {},
     "output_type": "execute_result"
    }
   ],
   "source": [
    "#View freqency of orders by hour\n",
    "ords_prods_merged['order_hour_of_day'].value_counts(dropna = False)"
   ]
  },
  {
   "cell_type": "code",
   "execution_count": 27,
   "id": "9352fbad",
   "metadata": {},
   "outputs": [
    {
     "data": {
      "text/plain": [
       "count    2.400000e+01\n",
       "mean     1.350202e+06\n",
       "std      1.078369e+06\n",
       "min      5.128100e+04\n",
       "25%      2.725620e+05\n",
       "50%      1.117230e+06\n",
       "75%      2.556034e+06\n",
       "max      2.761760e+06\n",
       "Name: count, dtype: float64"
      ]
     },
     "execution_count": 27,
     "metadata": {},
     "output_type": "execute_result"
    }
   ],
   "source": [
    "#View statistics of freqency of orders by hour\n",
    "ords_prods_merged['order_hour_of_day'].value_counts(dropna = False).describe()"
   ]
  },
  {
   "cell_type": "markdown",
   "id": "9aa33852",
   "metadata": {},
   "source": [
    "Determining busy and least busy time periods:\n",
    "Viewing the descriptive statistics of the frequency of orders by hours shows us that that the average number of orders by hour is 1,350,202 orders. The standard deviation is 1,078,369 orders. Using these numbers we can determine that orders over 1 Std Dev away from the average are orders at or above 2,428,571. Orders 1 Std Dev below the average are orders at or below 271,833. Using this we see the hours between 9-16 are the busiest hours of the day, although not necessarily in order of 9 to 16 respectfully. These hours of the day all exceed 2,428,571 orders. The least busy hours are from 0-5, although again not necessarily in that order. This leaves the hours of between 6-8 and 17-23 as average orders. \n"
   ]
  },
  {
   "cell_type": "code",
   "execution_count": 44,
   "id": "b99b5928",
   "metadata": {},
   "outputs": [],
   "source": [
    "#Create labels using the time frames determined\n",
    "hour_label = []\n",
    "\n",
    "for value in ords_prods_merged[\"order_hour_of_day\"]:\n",
    "  if value in [9, 10, 11, 12, 13, 14, 15, 16]:\n",
    "    hour_label.append(\"Most Orders\")\n",
    "  elif value in [0, 1, 2, 3, 4, 5]:\n",
    "    hour_label.append(\"Fewest Orders\")\n",
    "  else:\n",
    "    hour_label.append(\"Average Orders\")"
   ]
  },
  {
   "cell_type": "code",
   "execution_count": 45,
   "id": "c20799da",
   "metadata": {},
   "outputs": [],
   "source": [
    "#Create new column for busiest hours labels\n",
    "ords_prods_merged['busiest_hours'] = hour_label"
   ]
  },
  {
   "cell_type": "code",
   "execution_count": 46,
   "id": "129e2e54",
   "metadata": {},
   "outputs": [
    {
     "data": {
      "text/plain": [
       "busiest_hours\n",
       "Most Orders       21118071\n",
       "Average Orders    10690460\n",
       "Fewest Orders       596328\n",
       "Name: count, dtype: int64"
      ]
     },
     "execution_count": 46,
     "metadata": {},
     "output_type": "execute_result"
    }
   ],
   "source": [
    "ords_prods_merged['busiest_hours'].value_counts(dropna = False)"
   ]
  },
  {
   "cell_type": "code",
   "execution_count": 56,
   "id": "631fc340",
   "metadata": {
    "scrolled": true
   },
   "outputs": [
    {
     "data": {
      "text/html": [
       "<div>\n",
       "<style scoped>\n",
       "    .dataframe tbody tr th:only-of-type {\n",
       "        vertical-align: middle;\n",
       "    }\n",
       "\n",
       "    .dataframe tbody tr th {\n",
       "        vertical-align: top;\n",
       "    }\n",
       "\n",
       "    .dataframe thead th {\n",
       "        text-align: right;\n",
       "    }\n",
       "</style>\n",
       "<table border=\"1\" class=\"dataframe\">\n",
       "  <thead>\n",
       "    <tr style=\"text-align: right;\">\n",
       "      <th></th>\n",
       "      <th>order_hour_of_day</th>\n",
       "      <th>busiest_hours</th>\n",
       "    </tr>\n",
       "  </thead>\n",
       "  <tbody>\n",
       "    <tr>\n",
       "      <th>1</th>\n",
       "      <td>17</td>\n",
       "      <td>Average Orders</td>\n",
       "    </tr>\n",
       "    <tr>\n",
       "      <th>2</th>\n",
       "      <td>21</td>\n",
       "      <td>Average Orders</td>\n",
       "    </tr>\n",
       "    <tr>\n",
       "      <th>4</th>\n",
       "      <td>17</td>\n",
       "      <td>Average Orders</td>\n",
       "    </tr>\n",
       "    <tr>\n",
       "      <th>5</th>\n",
       "      <td>7</td>\n",
       "      <td>Average Orders</td>\n",
       "    </tr>\n",
       "    <tr>\n",
       "      <th>21</th>\n",
       "      <td>23</td>\n",
       "      <td>Average Orders</td>\n",
       "    </tr>\n",
       "    <tr>\n",
       "      <th>8</th>\n",
       "      <td>20</td>\n",
       "      <td>Average Orders</td>\n",
       "    </tr>\n",
       "    <tr>\n",
       "      <th>18</th>\n",
       "      <td>21</td>\n",
       "      <td>Average Orders</td>\n",
       "    </tr>\n",
       "    <tr>\n",
       "      <th>16</th>\n",
       "      <td>8</td>\n",
       "      <td>Average Orders</td>\n",
       "    </tr>\n",
       "    <tr>\n",
       "      <th>15</th>\n",
       "      <td>8</td>\n",
       "      <td>Average Orders</td>\n",
       "    </tr>\n",
       "    <tr>\n",
       "      <th>22</th>\n",
       "      <td>3</td>\n",
       "      <td>Fewest Orders</td>\n",
       "    </tr>\n",
       "    <tr>\n",
       "      <th>20</th>\n",
       "      <td>2</td>\n",
       "      <td>Fewest Orders</td>\n",
       "    </tr>\n",
       "    <tr>\n",
       "      <th>19</th>\n",
       "      <td>0</td>\n",
       "      <td>Fewest Orders</td>\n",
       "    </tr>\n",
       "    <tr>\n",
       "      <th>17</th>\n",
       "      <td>0</td>\n",
       "      <td>Fewest Orders</td>\n",
       "    </tr>\n",
       "    <tr>\n",
       "      <th>0</th>\n",
       "      <td>11</td>\n",
       "      <td>Most Orders</td>\n",
       "    </tr>\n",
       "    <tr>\n",
       "      <th>12</th>\n",
       "      <td>13</td>\n",
       "      <td>Most Orders</td>\n",
       "    </tr>\n",
       "    <tr>\n",
       "      <th>13</th>\n",
       "      <td>12</td>\n",
       "      <td>Most Orders</td>\n",
       "    </tr>\n",
       "    <tr>\n",
       "      <th>23</th>\n",
       "      <td>14</td>\n",
       "      <td>Most Orders</td>\n",
       "    </tr>\n",
       "    <tr>\n",
       "      <th>11</th>\n",
       "      <td>13</td>\n",
       "      <td>Most Orders</td>\n",
       "    </tr>\n",
       "    <tr>\n",
       "      <th>10</th>\n",
       "      <td>11</td>\n",
       "      <td>Most Orders</td>\n",
       "    </tr>\n",
       "    <tr>\n",
       "      <th>9</th>\n",
       "      <td>12</td>\n",
       "      <td>Most Orders</td>\n",
       "    </tr>\n",
       "    <tr>\n",
       "      <th>7</th>\n",
       "      <td>10</td>\n",
       "      <td>Most Orders</td>\n",
       "    </tr>\n",
       "    <tr>\n",
       "      <th>6</th>\n",
       "      <td>14</td>\n",
       "      <td>Most Orders</td>\n",
       "    </tr>\n",
       "    <tr>\n",
       "      <th>3</th>\n",
       "      <td>13</td>\n",
       "      <td>Most Orders</td>\n",
       "    </tr>\n",
       "    <tr>\n",
       "      <th>14</th>\n",
       "      <td>10</td>\n",
       "      <td>Most Orders</td>\n",
       "    </tr>\n",
       "    <tr>\n",
       "      <th>24</th>\n",
       "      <td>14</td>\n",
       "      <td>Most Orders</td>\n",
       "    </tr>\n",
       "  </tbody>\n",
       "</table>\n",
       "</div>"
      ],
      "text/plain": [
       "    order_hour_of_day   busiest_hours\n",
       "1                  17  Average Orders\n",
       "2                  21  Average Orders\n",
       "4                  17  Average Orders\n",
       "5                   7  Average Orders\n",
       "21                 23  Average Orders\n",
       "8                  20  Average Orders\n",
       "18                 21  Average Orders\n",
       "16                  8  Average Orders\n",
       "15                  8  Average Orders\n",
       "22                  3   Fewest Orders\n",
       "20                  2   Fewest Orders\n",
       "19                  0   Fewest Orders\n",
       "17                  0   Fewest Orders\n",
       "0                  11     Most Orders\n",
       "12                 13     Most Orders\n",
       "13                 12     Most Orders\n",
       "23                 14     Most Orders\n",
       "11                 13     Most Orders\n",
       "10                 11     Most Orders\n",
       "9                  12     Most Orders\n",
       "7                  10     Most Orders\n",
       "6                  14     Most Orders\n",
       "3                  13     Most Orders\n",
       "14                 10     Most Orders\n",
       "24                 14     Most Orders"
      ]
     },
     "execution_count": 56,
     "metadata": {},
     "output_type": "execute_result"
    }
   ],
   "source": [
    "#View head of new column sorted by busiest_hours\n",
    "ords_prods_merged[['order_hour_of_day', 'busiest_hours']].head(25).sort_values(by=['busiest_hours'])"
   ]
  },
  {
   "cell_type": "markdown",
   "id": "d99b0c3f",
   "metadata": {},
   "source": [
    "6. Export Updated Dataset"
   ]
  },
  {
   "cell_type": "code",
   "execution_count": 57,
   "id": "8a9e79e3",
   "metadata": {},
   "outputs": [],
   "source": [
    "#Export Data\n",
    "ords_prods_merged.to_pickle(os.path.join(path, '02 Data','Prepared Data', 'orders_products_merged_updated.pkl'))"
   ]
  }
 ],
 "metadata": {
  "kernelspec": {
   "display_name": "Python 3 (ipykernel)",
   "language": "python",
   "name": "python3"
  },
  "language_info": {
   "codemirror_mode": {
    "name": "ipython",
    "version": 3
   },
   "file_extension": ".py",
   "mimetype": "text/x-python",
   "name": "python",
   "nbconvert_exporter": "python",
   "pygments_lexer": "ipython3",
   "version": "3.11.4"
  }
 },
 "nbformat": 4,
 "nbformat_minor": 5
}
