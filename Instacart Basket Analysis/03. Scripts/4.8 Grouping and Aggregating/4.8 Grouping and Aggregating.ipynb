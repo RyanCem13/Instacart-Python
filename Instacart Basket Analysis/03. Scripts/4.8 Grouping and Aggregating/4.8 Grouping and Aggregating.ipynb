{
 "cells": [
  {
   "cell_type": "markdown",
   "id": "6e66ce8a",
   "metadata": {},
   "source": [
    "# Exercise 4.8\n",
    "Grouping and Aggregating Data"
   ]
  },
  {
   "cell_type": "markdown",
   "id": "575bf149",
   "metadata": {},
   "source": [
    "Content List:\n",
    "1. Import Libraries, Create Path and Import Datasets\n",
    "2. Find the aggregated mean of 'order_number\" grouped by 'department_id\"\n",
    "3. Create Customer Loyalty Flags\n",
    "4. Analyze statistics with new Loyalty Flag\n",
    "5. Create Spending Flags\n",
    "6. Create Order Frequency Flags\n",
    "7. Export Updated Dataset"
   ]
  },
  {
   "cell_type": "markdown",
   "id": "86ad31ab",
   "metadata": {},
   "source": [
    "1. Import Libraries, Create Path and Import Datasets"
   ]
  },
  {
   "cell_type": "code",
   "execution_count": 1,
   "id": "7c3bc5d9",
   "metadata": {},
   "outputs": [],
   "source": [
    "#Import Libraries\n",
    "import pandas as pd\n",
    "import numpy as np\n",
    "import os"
   ]
  },
  {
   "cell_type": "code",
   "execution_count": 2,
   "id": "9d19b2e2",
   "metadata": {},
   "outputs": [],
   "source": [
    "#Create Path\n",
    "path = r'C:\\Users\\ryanc\\OneDrive\\Documents\\Data Analytics Exercises\\Python\\Instacart Basket Analysis'"
   ]
  },
  {
   "cell_type": "code",
   "execution_count": 4,
   "id": "54b21c3d",
   "metadata": {},
   "outputs": [],
   "source": [
    "#Import order products merged updated df\n",
    "ords_prods_merged = pd.read_pickle(os.path.join(path, '02 Data', 'Prepared Data', 'orders_products_merged_updated.pkl'))"
   ]
  },
  {
   "cell_type": "code",
   "execution_count": 20,
   "id": "00396604",
   "metadata": {},
   "outputs": [
    {
     "data": {
      "text/html": [
       "<div>\n",
       "<style scoped>\n",
       "    .dataframe tbody tr th:only-of-type {\n",
       "        vertical-align: middle;\n",
       "    }\n",
       "\n",
       "    .dataframe tbody tr th {\n",
       "        vertical-align: top;\n",
       "    }\n",
       "\n",
       "    .dataframe thead th {\n",
       "        text-align: right;\n",
       "    }\n",
       "</style>\n",
       "<table border=\"1\" class=\"dataframe\">\n",
       "  <thead>\n",
       "    <tr style=\"text-align: right;\">\n",
       "      <th></th>\n",
       "      <th>product_id</th>\n",
       "      <th>product_name</th>\n",
       "      <th>aisle_id</th>\n",
       "      <th>department_id</th>\n",
       "      <th>prices</th>\n",
       "      <th>order_id</th>\n",
       "      <th>user_id</th>\n",
       "      <th>eval_set</th>\n",
       "      <th>order_number</th>\n",
       "      <th>order_dow</th>\n",
       "      <th>...</th>\n",
       "      <th>days_since_prior_order</th>\n",
       "      <th>add_to_cart_order</th>\n",
       "      <th>reordered</th>\n",
       "      <th>_merge</th>\n",
       "      <th>price_range_loc</th>\n",
       "      <th>busiest_day</th>\n",
       "      <th>new_busiest_days</th>\n",
       "      <th>busiest_hours</th>\n",
       "      <th>max_order</th>\n",
       "      <th>loyalty_flag</th>\n",
       "    </tr>\n",
       "  </thead>\n",
       "  <tbody>\n",
       "    <tr>\n",
       "      <th>0</th>\n",
       "      <td>1</td>\n",
       "      <td>Chocolate Sandwich Cookies</td>\n",
       "      <td>61</td>\n",
       "      <td>19</td>\n",
       "      <td>5.8</td>\n",
       "      <td>3139998</td>\n",
       "      <td>138</td>\n",
       "      <td>prior</td>\n",
       "      <td>28</td>\n",
       "      <td>6</td>\n",
       "      <td>...</td>\n",
       "      <td>3.0</td>\n",
       "      <td>5</td>\n",
       "      <td>0</td>\n",
       "      <td>both</td>\n",
       "      <td>Mid-range product</td>\n",
       "      <td>Regularly busy</td>\n",
       "      <td>Regularly Busy days</td>\n",
       "      <td>Most Orders</td>\n",
       "      <td>32</td>\n",
       "      <td>Regular customer</td>\n",
       "    </tr>\n",
       "    <tr>\n",
       "      <th>1</th>\n",
       "      <td>1</td>\n",
       "      <td>Chocolate Sandwich Cookies</td>\n",
       "      <td>61</td>\n",
       "      <td>19</td>\n",
       "      <td>5.8</td>\n",
       "      <td>1977647</td>\n",
       "      <td>138</td>\n",
       "      <td>prior</td>\n",
       "      <td>30</td>\n",
       "      <td>6</td>\n",
       "      <td>...</td>\n",
       "      <td>20.0</td>\n",
       "      <td>1</td>\n",
       "      <td>1</td>\n",
       "      <td>both</td>\n",
       "      <td>Mid-range product</td>\n",
       "      <td>Regularly busy</td>\n",
       "      <td>Regularly Busy days</td>\n",
       "      <td>Average Orders</td>\n",
       "      <td>32</td>\n",
       "      <td>Regular customer</td>\n",
       "    </tr>\n",
       "    <tr>\n",
       "      <th>2</th>\n",
       "      <td>1</td>\n",
       "      <td>Chocolate Sandwich Cookies</td>\n",
       "      <td>61</td>\n",
       "      <td>19</td>\n",
       "      <td>5.8</td>\n",
       "      <td>389851</td>\n",
       "      <td>709</td>\n",
       "      <td>prior</td>\n",
       "      <td>2</td>\n",
       "      <td>0</td>\n",
       "      <td>...</td>\n",
       "      <td>6.0</td>\n",
       "      <td>20</td>\n",
       "      <td>0</td>\n",
       "      <td>both</td>\n",
       "      <td>Mid-range product</td>\n",
       "      <td>Busiest day</td>\n",
       "      <td>Busiest days</td>\n",
       "      <td>Average Orders</td>\n",
       "      <td>5</td>\n",
       "      <td>New customer</td>\n",
       "    </tr>\n",
       "    <tr>\n",
       "      <th>3</th>\n",
       "      <td>1</td>\n",
       "      <td>Chocolate Sandwich Cookies</td>\n",
       "      <td>61</td>\n",
       "      <td>19</td>\n",
       "      <td>5.8</td>\n",
       "      <td>652770</td>\n",
       "      <td>764</td>\n",
       "      <td>prior</td>\n",
       "      <td>1</td>\n",
       "      <td>3</td>\n",
       "      <td>...</td>\n",
       "      <td>NaN</td>\n",
       "      <td>10</td>\n",
       "      <td>0</td>\n",
       "      <td>both</td>\n",
       "      <td>Mid-range product</td>\n",
       "      <td>Regularly busy</td>\n",
       "      <td>Slowest Days</td>\n",
       "      <td>Most Orders</td>\n",
       "      <td>3</td>\n",
       "      <td>New customer</td>\n",
       "    </tr>\n",
       "    <tr>\n",
       "      <th>4</th>\n",
       "      <td>1</td>\n",
       "      <td>Chocolate Sandwich Cookies</td>\n",
       "      <td>61</td>\n",
       "      <td>19</td>\n",
       "      <td>5.8</td>\n",
       "      <td>1813452</td>\n",
       "      <td>764</td>\n",
       "      <td>prior</td>\n",
       "      <td>3</td>\n",
       "      <td>4</td>\n",
       "      <td>...</td>\n",
       "      <td>9.0</td>\n",
       "      <td>11</td>\n",
       "      <td>1</td>\n",
       "      <td>both</td>\n",
       "      <td>Mid-range product</td>\n",
       "      <td>Least busy</td>\n",
       "      <td>Slowest Days</td>\n",
       "      <td>Average Orders</td>\n",
       "      <td>3</td>\n",
       "      <td>New customer</td>\n",
       "    </tr>\n",
       "  </tbody>\n",
       "</table>\n",
       "<p>5 rows × 21 columns</p>\n",
       "</div>"
      ],
      "text/plain": [
       "   product_id                product_name  aisle_id  department_id  prices  \\\n",
       "0           1  Chocolate Sandwich Cookies        61             19     5.8   \n",
       "1           1  Chocolate Sandwich Cookies        61             19     5.8   \n",
       "2           1  Chocolate Sandwich Cookies        61             19     5.8   \n",
       "3           1  Chocolate Sandwich Cookies        61             19     5.8   \n",
       "4           1  Chocolate Sandwich Cookies        61             19     5.8   \n",
       "\n",
       "   order_id  user_id eval_set  order_number  order_dow  ...  \\\n",
       "0   3139998      138    prior            28          6  ...   \n",
       "1   1977647      138    prior            30          6  ...   \n",
       "2    389851      709    prior             2          0  ...   \n",
       "3    652770      764    prior             1          3  ...   \n",
       "4   1813452      764    prior             3          4  ...   \n",
       "\n",
       "   days_since_prior_order  add_to_cart_order  reordered  _merge  \\\n",
       "0                     3.0                  5          0    both   \n",
       "1                    20.0                  1          1    both   \n",
       "2                     6.0                 20          0    both   \n",
       "3                     NaN                 10          0    both   \n",
       "4                     9.0                 11          1    both   \n",
       "\n",
       "     price_range_loc     busiest_day     new_busiest_days   busiest_hours  \\\n",
       "0  Mid-range product  Regularly busy  Regularly Busy days     Most Orders   \n",
       "1  Mid-range product  Regularly busy  Regularly Busy days  Average Orders   \n",
       "2  Mid-range product     Busiest day         Busiest days  Average Orders   \n",
       "3  Mid-range product  Regularly busy         Slowest Days     Most Orders   \n",
       "4  Mid-range product      Least busy         Slowest Days  Average Orders   \n",
       "\n",
       "  max_order      loyalty_flag  \n",
       "0        32  Regular customer  \n",
       "1        32  Regular customer  \n",
       "2         5      New customer  \n",
       "3         3      New customer  \n",
       "4         3      New customer  \n",
       "\n",
       "[5 rows x 21 columns]"
      ]
     },
     "execution_count": 20,
     "metadata": {},
     "output_type": "execute_result"
    }
   ],
   "source": [
    "#View first 5 rows of dataset\n",
    "ords_prods_merged.head()"
   ]
  },
  {
   "cell_type": "markdown",
   "id": "a6e804b5",
   "metadata": {},
   "source": [
    "# Question 2. \n",
    "Find the aggregated mean of 'order_number\" grouped by 'department_id\""
   ]
  },
  {
   "cell_type": "code",
   "execution_count": 5,
   "id": "a916c2ca",
   "metadata": {},
   "outputs": [
    {
     "data": {
      "text/plain": [
       "department_id\n",
       "1     15.457838\n",
       "2     17.277920\n",
       "3     17.170395\n",
       "4     17.811403\n",
       "5     15.215751\n",
       "6     16.439806\n",
       "7     17.225802\n",
       "8     15.340650\n",
       "9     15.895474\n",
       "10    20.197148\n",
       "11    16.170638\n",
       "12    15.887671\n",
       "13    16.583536\n",
       "14    16.773669\n",
       "15    16.165037\n",
       "16    17.665606\n",
       "17    15.694469\n",
       "18    19.310397\n",
       "19    17.177343\n",
       "20    16.473447\n",
       "21    22.902379\n",
       "Name: order_number, dtype: float64"
      ]
     },
     "execution_count": 5,
     "metadata": {},
     "output_type": "execute_result"
    }
   ],
   "source": [
    "#Find the aggregated mean of 'order_number\" grouped by 'department_id\"\n",
    "ords_prods_merged.groupby('department_id')['order_number'].mean()"
   ]
  },
  {
   "cell_type": "markdown",
   "id": "cc2d6f59",
   "metadata": {},
   "source": [
    "# Question 3.\n",
    "Looking back on the numbers for the subset of this data used previously, these numbers, using the entire data set are very close to the subset of data we used. This is expected that they would be close but not exact as our subset was considerably large at 1,000,000 rows. "
   ]
  },
  {
   "cell_type": "markdown",
   "id": "4ea26adc",
   "metadata": {},
   "source": [
    "3. Create Customer Loyalty Flags"
   ]
  },
  {
   "cell_type": "code",
   "execution_count": 6,
   "id": "7e192858",
   "metadata": {},
   "outputs": [],
   "source": [
    "#Use the transform function to create a new column 'max_order'\n",
    "ords_prods_merged['max_order'] = ords_prods_merged.groupby(['user_id'])['order_number'].transform(np.max)"
   ]
  },
  {
   "cell_type": "markdown",
   "id": "c7ea4fb0",
   "metadata": {},
   "source": [
    "# Question 4.\n",
    "Create a loyalty flag"
   ]
  },
  {
   "cell_type": "code",
   "execution_count": 7,
   "id": "4d430138",
   "metadata": {},
   "outputs": [],
   "source": [
    "#Create flag for loyal customers (next 3 lines)\n",
    "ords_prods_merged.loc[ords_prods_merged['max_order'] > 40, 'loyalty_flag'] = 'Loyal customer'"
   ]
  },
  {
   "cell_type": "code",
   "execution_count": 8,
   "id": "372171cf",
   "metadata": {},
   "outputs": [],
   "source": [
    "ords_prods_merged.loc[(ords_prods_merged['max_order'] <= 40) & (ords_prods_merged['max_order'] > 10), 'loyalty_flag'] = 'Regular customer'"
   ]
  },
  {
   "cell_type": "code",
   "execution_count": 9,
   "id": "855a7454",
   "metadata": {},
   "outputs": [],
   "source": [
    "ords_prods_merged.loc[ords_prods_merged['max_order'] <= 10, 'loyalty_flag'] = 'New customer'"
   ]
  },
  {
   "cell_type": "code",
   "execution_count": 10,
   "id": "ac882c46",
   "metadata": {},
   "outputs": [
    {
     "data": {
      "text/plain": [
       "loyalty_flag\n",
       "Regular customer    15876776\n",
       "Loyal customer      10284093\n",
       "New customer         6243990\n",
       "Name: count, dtype: int64"
      ]
     },
     "execution_count": 10,
     "metadata": {},
     "output_type": "execute_result"
    }
   ],
   "source": [
    "#View count of new loyalty flag\n",
    "ords_prods_merged['loyalty_flag'].value_counts(dropna = False)"
   ]
  },
  {
   "cell_type": "code",
   "execution_count": 25,
   "id": "fc3e54a5",
   "metadata": {
    "scrolled": false
   },
   "outputs": [
    {
     "data": {
      "text/html": [
       "<div>\n",
       "<style scoped>\n",
       "    .dataframe tbody tr th:only-of-type {\n",
       "        vertical-align: middle;\n",
       "    }\n",
       "\n",
       "    .dataframe tbody tr th {\n",
       "        vertical-align: top;\n",
       "    }\n",
       "\n",
       "    .dataframe thead th {\n",
       "        text-align: right;\n",
       "    }\n",
       "</style>\n",
       "<table border=\"1\" class=\"dataframe\">\n",
       "  <thead>\n",
       "    <tr style=\"text-align: right;\">\n",
       "      <th></th>\n",
       "      <th>user_id</th>\n",
       "      <th>order_number</th>\n",
       "      <th>max_order</th>\n",
       "      <th>loyalty_flag</th>\n",
       "    </tr>\n",
       "  </thead>\n",
       "  <tbody>\n",
       "    <tr>\n",
       "      <th>6002731</th>\n",
       "      <td>1</td>\n",
       "      <td>5</td>\n",
       "      <td>10</td>\n",
       "      <td>New customer</td>\n",
       "    </tr>\n",
       "    <tr>\n",
       "      <th>92374</th>\n",
       "      <td>1</td>\n",
       "      <td>7</td>\n",
       "      <td>10</td>\n",
       "      <td>New customer</td>\n",
       "    </tr>\n",
       "    <tr>\n",
       "      <th>92373</th>\n",
       "      <td>1</td>\n",
       "      <td>6</td>\n",
       "      <td>10</td>\n",
       "      <td>New customer</td>\n",
       "    </tr>\n",
       "    <tr>\n",
       "      <th>92371</th>\n",
       "      <td>1</td>\n",
       "      <td>4</td>\n",
       "      <td>10</td>\n",
       "      <td>New customer</td>\n",
       "    </tr>\n",
       "    <tr>\n",
       "      <th>92370</th>\n",
       "      <td>1</td>\n",
       "      <td>3</td>\n",
       "      <td>10</td>\n",
       "      <td>New customer</td>\n",
       "    </tr>\n",
       "    <tr>\n",
       "      <th>92369</th>\n",
       "      <td>1</td>\n",
       "      <td>2</td>\n",
       "      <td>10</td>\n",
       "      <td>New customer</td>\n",
       "    </tr>\n",
       "    <tr>\n",
       "      <th>7157235</th>\n",
       "      <td>1</td>\n",
       "      <td>8</td>\n",
       "      <td>10</td>\n",
       "      <td>New customer</td>\n",
       "    </tr>\n",
       "    <tr>\n",
       "      <th>92368</th>\n",
       "      <td>1</td>\n",
       "      <td>1</td>\n",
       "      <td>10</td>\n",
       "      <td>New customer</td>\n",
       "    </tr>\n",
       "    <tr>\n",
       "      <th>7157236</th>\n",
       "      <td>1</td>\n",
       "      <td>9</td>\n",
       "      <td>10</td>\n",
       "      <td>New customer</td>\n",
       "    </tr>\n",
       "    <tr>\n",
       "      <th>7157237</th>\n",
       "      <td>1</td>\n",
       "      <td>10</td>\n",
       "      <td>10</td>\n",
       "      <td>New customer</td>\n",
       "    </tr>\n",
       "  </tbody>\n",
       "</table>\n",
       "</div>"
      ],
      "text/plain": [
       "         user_id  order_number  max_order  loyalty_flag\n",
       "6002731        1             5         10  New customer\n",
       "92374          1             7         10  New customer\n",
       "92373          1             6         10  New customer\n",
       "92371          1             4         10  New customer\n",
       "92370          1             3         10  New customer\n",
       "92369          1             2         10  New customer\n",
       "7157235        1             8         10  New customer\n",
       "92368          1             1         10  New customer\n",
       "7157236        1             9         10  New customer\n",
       "7157237        1            10         10  New customer"
      ]
     },
     "execution_count": 25,
     "metadata": {},
     "output_type": "execute_result"
    }
   ],
   "source": [
    "#View selected columns sorted by user_id\n",
    "ords_prods_merged[['user_id', 'order_number', 'max_order', 'loyalty_flag']].sort_values(by=['user_id']).head(10)"
   ]
  },
  {
   "cell_type": "markdown",
   "id": "adb47697",
   "metadata": {},
   "source": [
    "4. Analyze statistics with new Loyalty Flag"
   ]
  },
  {
   "cell_type": "markdown",
   "id": "ae5f10ac",
   "metadata": {},
   "source": [
    "# Question 5\n",
    "Use the loyalty flag you created and check the basic statistics of the product prices for each loyalty category"
   ]
  },
  {
   "cell_type": "code",
   "execution_count": 18,
   "id": "318a38f6",
   "metadata": {},
   "outputs": [
    {
     "data": {
      "text/html": [
       "<div>\n",
       "<style scoped>\n",
       "    .dataframe tbody tr th:only-of-type {\n",
       "        vertical-align: middle;\n",
       "    }\n",
       "\n",
       "    .dataframe tbody tr th {\n",
       "        vertical-align: top;\n",
       "    }\n",
       "\n",
       "    .dataframe thead th {\n",
       "        text-align: right;\n",
       "    }\n",
       "</style>\n",
       "<table border=\"1\" class=\"dataframe\">\n",
       "  <thead>\n",
       "    <tr style=\"text-align: right;\">\n",
       "      <th></th>\n",
       "      <th>count</th>\n",
       "      <th>mean</th>\n",
       "      <th>std</th>\n",
       "      <th>min</th>\n",
       "      <th>25%</th>\n",
       "      <th>50%</th>\n",
       "      <th>75%</th>\n",
       "      <th>max</th>\n",
       "    </tr>\n",
       "    <tr>\n",
       "      <th>loyalty_flag</th>\n",
       "      <th></th>\n",
       "      <th></th>\n",
       "      <th></th>\n",
       "      <th></th>\n",
       "      <th></th>\n",
       "      <th></th>\n",
       "      <th></th>\n",
       "      <th></th>\n",
       "    </tr>\n",
       "  </thead>\n",
       "  <tbody>\n",
       "    <tr>\n",
       "      <th>Loyal customer</th>\n",
       "      <td>10284093.0</td>\n",
       "      <td>10.386336</td>\n",
       "      <td>328.017787</td>\n",
       "      <td>1.0</td>\n",
       "      <td>4.2</td>\n",
       "      <td>7.4</td>\n",
       "      <td>11.2</td>\n",
       "      <td>99999.0</td>\n",
       "    </tr>\n",
       "    <tr>\n",
       "      <th>New customer</th>\n",
       "      <td>6243990.0</td>\n",
       "      <td>13.294670</td>\n",
       "      <td>597.560299</td>\n",
       "      <td>1.0</td>\n",
       "      <td>4.2</td>\n",
       "      <td>7.4</td>\n",
       "      <td>11.3</td>\n",
       "      <td>99999.0</td>\n",
       "    </tr>\n",
       "    <tr>\n",
       "      <th>Regular customer</th>\n",
       "      <td>15876776.0</td>\n",
       "      <td>12.495717</td>\n",
       "      <td>539.720919</td>\n",
       "      <td>1.0</td>\n",
       "      <td>4.2</td>\n",
       "      <td>7.4</td>\n",
       "      <td>11.3</td>\n",
       "      <td>99999.0</td>\n",
       "    </tr>\n",
       "  </tbody>\n",
       "</table>\n",
       "</div>"
      ],
      "text/plain": [
       "                       count       mean         std  min  25%  50%   75%  \\\n",
       "loyalty_flag                                                               \n",
       "Loyal customer    10284093.0  10.386336  328.017787  1.0  4.2  7.4  11.2   \n",
       "New customer       6243990.0  13.294670  597.560299  1.0  4.2  7.4  11.3   \n",
       "Regular customer  15876776.0  12.495717  539.720919  1.0  4.2  7.4  11.3   \n",
       "\n",
       "                      max  \n",
       "loyalty_flag               \n",
       "Loyal customer    99999.0  \n",
       "New customer      99999.0  \n",
       "Regular customer  99999.0  "
      ]
     },
     "execution_count": 18,
     "metadata": {},
     "output_type": "execute_result"
    }
   ],
   "source": [
    "#View statistics about prices of products purchased grouped by loyalty\n",
    "ords_prods_merged.groupby('loyalty_flag')['prices'].describe()"
   ]
  },
  {
   "cell_type": "markdown",
   "id": "a4b47931",
   "metadata": {},
   "source": [
    "Looking at the descriptive statistics for each loyalty category we see that new customers have the highest mean price per item than both regular and loyal customers. Loyal customers spend the least per item on average."
   ]
  },
  {
   "cell_type": "markdown",
   "id": "33918ead",
   "metadata": {},
   "source": [
    "5. Create Spending Flags"
   ]
  },
  {
   "cell_type": "markdown",
   "id": "f23b8fbd",
   "metadata": {},
   "source": [
    "# Question 6. \n",
    "Create a spending flag for each user based on the average price across all their orders using the following criteria"
   ]
  },
  {
   "cell_type": "code",
   "execution_count": 21,
   "id": "cfda5fdd",
   "metadata": {},
   "outputs": [],
   "source": [
    "#Use the transform function to create a new column 'avg_price'\n",
    "ords_prods_merged['avg_price'] = ords_prods_merged.groupby(['user_id'])['prices'].transform(np.mean)"
   ]
  },
  {
   "cell_type": "code",
   "execution_count": 22,
   "id": "4fd87fc7",
   "metadata": {},
   "outputs": [],
   "source": [
    "#Create flag for high and low spenders (next 2 lines)\n",
    "ords_prods_merged.loc[ords_prods_merged['avg_price'] < 10, 'spender_flag'] = 'Low Spender'"
   ]
  },
  {
   "cell_type": "code",
   "execution_count": 23,
   "id": "7e235f77",
   "metadata": {},
   "outputs": [],
   "source": [
    "ords_prods_merged.loc[ords_prods_merged['avg_price'] >= 10, 'spender_flag'] = 'High Spender'"
   ]
  },
  {
   "cell_type": "code",
   "execution_count": 24,
   "id": "f06b32cd",
   "metadata": {
    "scrolled": true
   },
   "outputs": [
    {
     "data": {
      "text/plain": [
       "spender_flag\n",
       "Low Spender     31770614\n",
       "High Spender      634245\n",
       "Name: count, dtype: int64"
      ]
     },
     "execution_count": 24,
     "metadata": {},
     "output_type": "execute_result"
    }
   ],
   "source": [
    "#View frequency of new spender flag\n",
    "ords_prods_merged['spender_flag'].value_counts(dropna = False)"
   ]
  },
  {
   "cell_type": "markdown",
   "id": "179f28f9",
   "metadata": {},
   "source": [
    "6. Create Order Frequency Flags"
   ]
  },
  {
   "cell_type": "markdown",
   "id": "b3809e40",
   "metadata": {},
   "source": [
    "# Question 7.\n",
    "Create an order frequency flag that marks the regularity of a user’s ordering behavior according to the median in the “days_since_prior_order” column"
   ]
  },
  {
   "cell_type": "code",
   "execution_count": 26,
   "id": "d93cb238",
   "metadata": {},
   "outputs": [],
   "source": [
    "#Use the transform function to create a new column 'order_freq'\n",
    "ords_prods_merged['order_freq'] = ords_prods_merged.groupby(['user_id'])['days_since_prior_order'].transform(np.median)"
   ]
  },
  {
   "cell_type": "code",
   "execution_count": 27,
   "id": "97dae4a3",
   "metadata": {},
   "outputs": [],
   "source": [
    "#Create flag for frequency of customer (next 3 lines)\n",
    "ords_prods_merged.loc[ords_prods_merged['order_freq'] > 20, 'frequency_flag'] = 'Non-Frequent Customer'"
   ]
  },
  {
   "cell_type": "code",
   "execution_count": 28,
   "id": "49945c69",
   "metadata": {},
   "outputs": [],
   "source": [
    "ords_prods_merged.loc[(ords_prods_merged['order_freq'] > 10) & (ords_prods_merged['order_freq'] <=20), 'frequency_flag'] = \"Regular Customer\""
   ]
  },
  {
   "cell_type": "code",
   "execution_count": 30,
   "id": "02599f79",
   "metadata": {},
   "outputs": [],
   "source": [
    "ords_prods_merged.loc[ords_prods_merged['order_freq'] <= 10, 'frequency_flag'] = 'Frequent Customer'"
   ]
  },
  {
   "cell_type": "code",
   "execution_count": 31,
   "id": "c994b565",
   "metadata": {
    "scrolled": true
   },
   "outputs": [
    {
     "data": {
      "text/plain": [
       "frequency_flag\n",
       "Frequent Customer        21559853\n",
       "Regular Customer          7208564\n",
       "Non-Frequent Customer     3636437\n",
       "NaN                             5\n",
       "Name: count, dtype: int64"
      ]
     },
     "execution_count": 31,
     "metadata": {},
     "output_type": "execute_result"
    }
   ],
   "source": [
    "#View count of new frequency flag\n",
    "ords_prods_merged['frequency_flag'].value_counts(dropna = False)"
   ]
  },
  {
   "cell_type": "markdown",
   "id": "524566d4",
   "metadata": {},
   "source": [
    "7. Export Updated Dataset"
   ]
  },
  {
   "cell_type": "code",
   "execution_count": 32,
   "id": "a0d75476",
   "metadata": {},
   "outputs": [],
   "source": [
    "#Export Data\n",
    "ords_prods_merged.to_pickle(os.path.join(path, '02 Data','Prepared Data', 'orders_products_merged_grouped.pkl'))"
   ]
  }
 ],
 "metadata": {
  "kernelspec": {
   "display_name": "Python 3 (ipykernel)",
   "language": "python",
   "name": "python3"
  },
  "language_info": {
   "codemirror_mode": {
    "name": "ipython",
    "version": 3
   },
   "file_extension": ".py",
   "mimetype": "text/x-python",
   "name": "python",
   "nbconvert_exporter": "python",
   "pygments_lexer": "ipython3",
   "version": "3.11.4"
  }
 },
 "nbformat": 4,
 "nbformat_minor": 5
}
