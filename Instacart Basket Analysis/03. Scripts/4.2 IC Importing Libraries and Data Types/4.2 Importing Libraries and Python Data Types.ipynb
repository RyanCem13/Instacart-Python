{
 "cells": [
  {
   "cell_type": "markdown",
   "id": "2e68614e",
   "metadata": {},
   "source": [
    "# 4.2: Jupyter Fundamentals & Python Data Types"
   ]
  },
  {
   "cell_type": "markdown",
   "id": "729a13aa",
   "metadata": {},
   "source": [
    "Contents\n",
    "1. Importing Libraries\n",
    "2. Data Types"
   ]
  },
  {
   "cell_type": "markdown",
   "id": "a75fecd1",
   "metadata": {},
   "source": [
    "#01. Importing Libraries"
   ]
  },
  {
   "cell_type": "code",
   "execution_count": 1,
   "id": "b8615a97",
   "metadata": {},
   "outputs": [],
   "source": [
    "# Import libraries\n",
    "import pandas as pd\n",
    "import numpy as np\n",
    "import os"
   ]
  },
  {
   "cell_type": "markdown",
   "id": "b7adeed8",
   "metadata": {},
   "source": [
    "#02. Data Types:\n",
    "Code 3 different ways of reaching a result of 100 by adding or subtracting numeric variables."
   ]
  },
  {
   "cell_type": "code",
   "execution_count": 19,
   "id": "4c484e85",
   "metadata": {},
   "outputs": [],
   "source": [
    "x = 55\n",
    "y = 45"
   ]
  },
  {
   "cell_type": "code",
   "execution_count": 20,
   "id": "a69d062b",
   "metadata": {},
   "outputs": [
    {
     "data": {
      "text/plain": [
       "100"
      ]
     },
     "execution_count": 20,
     "metadata": {},
     "output_type": "execute_result"
    }
   ],
   "source": [
    "x + y"
   ]
  },
  {
   "cell_type": "code",
   "execution_count": 21,
   "id": "92154e5a",
   "metadata": {},
   "outputs": [],
   "source": [
    "a = 120\n",
    "b = 20"
   ]
  },
  {
   "cell_type": "code",
   "execution_count": 22,
   "id": "da6d2d92",
   "metadata": {},
   "outputs": [
    {
     "data": {
      "text/plain": [
       "100"
      ]
     },
     "execution_count": 22,
     "metadata": {},
     "output_type": "execute_result"
    }
   ],
   "source": [
    "a - b"
   ]
  },
  {
   "cell_type": "code",
   "execution_count": 23,
   "id": "19a8a701",
   "metadata": {},
   "outputs": [],
   "source": [
    "c = 25\n",
    "d = 4"
   ]
  },
  {
   "cell_type": "code",
   "execution_count": 24,
   "id": "e7f81d21",
   "metadata": {
    "scrolled": true
   },
   "outputs": [
    {
     "data": {
      "text/plain": [
       "100"
      ]
     },
     "execution_count": 24,
     "metadata": {},
     "output_type": "execute_result"
    }
   ],
   "source": [
    "c * d"
   ]
  },
  {
   "cell_type": "markdown",
   "id": "dfd19c39",
   "metadata": {},
   "source": [
    "Code 2 floating-point variables and divide them by each other"
   ]
  },
  {
   "cell_type": "code",
   "execution_count": 25,
   "id": "18ba0811",
   "metadata": {},
   "outputs": [],
   "source": [
    "e = 12.5\n",
    "f = 2.5"
   ]
  },
  {
   "cell_type": "code",
   "execution_count": 26,
   "id": "11319fb8",
   "metadata": {
    "scrolled": true
   },
   "outputs": [
    {
     "data": {
      "text/plain": [
       "5.0"
      ]
     },
     "execution_count": 26,
     "metadata": {},
     "output_type": "execute_result"
    }
   ],
   "source": [
    "e / f"
   ]
  },
  {
   "cell_type": "markdown",
   "id": "7a738107",
   "metadata": {},
   "source": [
    "Construct a short word made of separate strings"
   ]
  },
  {
   "cell_type": "code",
   "execution_count": 27,
   "id": "5758a7ab",
   "metadata": {},
   "outputs": [],
   "source": [
    "p = 'p'\n",
    "y = 'y'\n",
    "t = 't'\n",
    "h = 'h'\n",
    "o = 'o'\n",
    "n = 'n'"
   ]
  },
  {
   "cell_type": "code",
   "execution_count": 28,
   "id": "38f86a52",
   "metadata": {
    "scrolled": true
   },
   "outputs": [
    {
     "data": {
      "text/plain": [
       "'python'"
      ]
     },
     "execution_count": 28,
     "metadata": {},
     "output_type": "execute_result"
    }
   ],
   "source": [
    "p + y + t + h + o + n"
   ]
  },
  {
   "cell_type": "markdown",
   "id": "cf8917f7",
   "metadata": {},
   "source": [
    "Construct 2 short sentences made of separate strings"
   ]
  },
  {
   "cell_type": "code",
   "execution_count": 29,
   "id": "2ccce3d4",
   "metadata": {},
   "outputs": [],
   "source": [
    "h = \"python\"\n",
    "j = 'is'\n",
    "k = 'cool'"
   ]
  },
  {
   "cell_type": "code",
   "execution_count": 30,
   "id": "d95c6f49",
   "metadata": {},
   "outputs": [
    {
     "data": {
      "text/plain": [
       "'pythoniscool'"
      ]
     },
     "execution_count": 30,
     "metadata": {},
     "output_type": "execute_result"
    }
   ],
   "source": [
    "h + j + k"
   ]
  },
  {
   "cell_type": "code",
   "execution_count": 31,
   "id": "b2fd07fa",
   "metadata": {},
   "outputs": [],
   "source": [
    "u = 'Apples'\n",
    "i = \"are\"\n",
    "p = 'sweet'"
   ]
  },
  {
   "cell_type": "code",
   "execution_count": 32,
   "id": "e0a7ab6f",
   "metadata": {},
   "outputs": [
    {
     "data": {
      "text/plain": [
       "'Applesaresweet'"
      ]
     },
     "execution_count": 32,
     "metadata": {},
     "output_type": "execute_result"
    }
   ],
   "source": [
    "u + i + p"
   ]
  }
 ],
 "metadata": {
  "kernelspec": {
   "display_name": "Python 3 (ipykernel)",
   "language": "python",
   "name": "python3"
  },
  "language_info": {
   "codemirror_mode": {
    "name": "ipython",
    "version": 3
   },
   "file_extension": ".py",
   "mimetype": "text/x-python",
   "name": "python",
   "nbconvert_exporter": "python",
   "pygments_lexer": "ipython3",
   "version": "3.11.4"
  }
 },
 "nbformat": 4,
 "nbformat_minor": 5
}
