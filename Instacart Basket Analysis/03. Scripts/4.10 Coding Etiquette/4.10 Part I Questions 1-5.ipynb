{
 "cells": [
  {
   "cell_type": "markdown",
   "id": "59e05f37",
   "metadata": {},
   "source": [
    "# 4.10: Coding Etiquette & Excel Reporting\n",
    "# Questions 1-5"
   ]
  },
  {
   "cell_type": "markdown",
   "id": "5f029e30",
   "metadata": {},
   "source": [
    "Content List:\n",
    "1. Import Libraries, Create Path and Import Datasets\n",
    "2. Address any PII data in the data \n",
    "3. Create a regional segmentation of the data\n",
    "4. Determine whether there’s a difference in spending habits between the different U.S. regions\n",
    "5. Create an exclusion flag for low-activity customers\n",
    "6. Create customer profiles based on Age, Income, Department Purchases and Incomes\n",
    "7. Export Updated Dataset"
   ]
  },
  {
   "cell_type": "markdown",
   "id": "7e6010a6",
   "metadata": {},
   "source": [
    "1. Import Libraries, Create Path and Import Datasets"
   ]
  },
  {
   "cell_type": "code",
   "execution_count": 1,
   "id": "b2b23957",
   "metadata": {},
   "outputs": [],
   "source": [
    "#import libraries\n",
    "import pandas as pd\n",
    "import numpy as np\n",
    "import os"
   ]
  },
  {
   "cell_type": "code",
   "execution_count": 2,
   "id": "b1b237da",
   "metadata": {},
   "outputs": [],
   "source": [
    "#Create Path\n",
    "path = r'C:\\Users\\ryanc\\OneDrive\\Documents\\Data Analytics Exercises\\Python\\Instacart Basket Analysis'"
   ]
  },
  {
   "cell_type": "code",
   "execution_count": 3,
   "id": "dc929ba3",
   "metadata": {},
   "outputs": [],
   "source": [
    "#Import merged df\n",
    "merged = pd.read_pickle(os.path.join(path, '02 Data', 'Prepared Data', 'merged_for_410.pkl'))"
   ]
  },
  {
   "cell_type": "code",
   "execution_count": 4,
   "id": "4b46fb7b",
   "metadata": {},
   "outputs": [],
   "source": [
    "#Change settings to view all columns of data\n",
    "pd.set_option('display.max_columns', None)"
   ]
  },
  {
   "cell_type": "code",
   "execution_count": 5,
   "id": "e3a927cc",
   "metadata": {},
   "outputs": [
    {
     "data": {
      "text/html": [
       "<div>\n",
       "<style scoped>\n",
       "    .dataframe tbody tr th:only-of-type {\n",
       "        vertical-align: middle;\n",
       "    }\n",
       "\n",
       "    .dataframe tbody tr th {\n",
       "        vertical-align: top;\n",
       "    }\n",
       "\n",
       "    .dataframe thead th {\n",
       "        text-align: right;\n",
       "    }\n",
       "</style>\n",
       "<table border=\"1\" class=\"dataframe\">\n",
       "  <thead>\n",
       "    <tr style=\"text-align: right;\">\n",
       "      <th></th>\n",
       "      <th>department_id</th>\n",
       "      <th>prices</th>\n",
       "      <th>order_id</th>\n",
       "      <th>user_id</th>\n",
       "      <th>order_number</th>\n",
       "      <th>spender_flag</th>\n",
       "      <th>State</th>\n",
       "      <th>Age</th>\n",
       "      <th>n_dependants</th>\n",
       "      <th>income</th>\n",
       "      <th>fam_status</th>\n",
       "    </tr>\n",
       "  </thead>\n",
       "  <tbody>\n",
       "    <tr>\n",
       "      <th>0</th>\n",
       "      <td>19</td>\n",
       "      <td>5.8</td>\n",
       "      <td>3139998</td>\n",
       "      <td>138</td>\n",
       "      <td>28</td>\n",
       "      <td>Low Spender</td>\n",
       "      <td>Minnesota</td>\n",
       "      <td>81</td>\n",
       "      <td>1</td>\n",
       "      <td>49620</td>\n",
       "      <td>married</td>\n",
       "    </tr>\n",
       "    <tr>\n",
       "      <th>1</th>\n",
       "      <td>19</td>\n",
       "      <td>5.8</td>\n",
       "      <td>1977647</td>\n",
       "      <td>138</td>\n",
       "      <td>30</td>\n",
       "      <td>Low Spender</td>\n",
       "      <td>Minnesota</td>\n",
       "      <td>81</td>\n",
       "      <td>1</td>\n",
       "      <td>49620</td>\n",
       "      <td>married</td>\n",
       "    </tr>\n",
       "    <tr>\n",
       "      <th>2</th>\n",
       "      <td>12</td>\n",
       "      <td>20.0</td>\n",
       "      <td>3160996</td>\n",
       "      <td>138</td>\n",
       "      <td>1</td>\n",
       "      <td>Low Spender</td>\n",
       "      <td>Minnesota</td>\n",
       "      <td>81</td>\n",
       "      <td>1</td>\n",
       "      <td>49620</td>\n",
       "      <td>married</td>\n",
       "    </tr>\n",
       "    <tr>\n",
       "      <th>3</th>\n",
       "      <td>12</td>\n",
       "      <td>20.0</td>\n",
       "      <td>2254091</td>\n",
       "      <td>138</td>\n",
       "      <td>10</td>\n",
       "      <td>Low Spender</td>\n",
       "      <td>Minnesota</td>\n",
       "      <td>81</td>\n",
       "      <td>1</td>\n",
       "      <td>49620</td>\n",
       "      <td>married</td>\n",
       "    </tr>\n",
       "    <tr>\n",
       "      <th>4</th>\n",
       "      <td>10</td>\n",
       "      <td>12.9</td>\n",
       "      <td>505689</td>\n",
       "      <td>138</td>\n",
       "      <td>9</td>\n",
       "      <td>Low Spender</td>\n",
       "      <td>Minnesota</td>\n",
       "      <td>81</td>\n",
       "      <td>1</td>\n",
       "      <td>49620</td>\n",
       "      <td>married</td>\n",
       "    </tr>\n",
       "  </tbody>\n",
       "</table>\n",
       "</div>"
      ],
      "text/plain": [
       "   department_id  prices  order_id  user_id  order_number spender_flag  \\\n",
       "0             19     5.8   3139998      138            28  Low Spender   \n",
       "1             19     5.8   1977647      138            30  Low Spender   \n",
       "2             12    20.0   3160996      138             1  Low Spender   \n",
       "3             12    20.0   2254091      138            10  Low Spender   \n",
       "4             10    12.9    505689      138             9  Low Spender   \n",
       "\n",
       "       State  Age  n_dependants  income fam_status  \n",
       "0  Minnesota   81             1   49620    married  \n",
       "1  Minnesota   81             1   49620    married  \n",
       "2  Minnesota   81             1   49620    married  \n",
       "3  Minnesota   81             1   49620    married  \n",
       "4  Minnesota   81             1   49620    married  "
      ]
     },
     "execution_count": 5,
     "metadata": {},
     "output_type": "execute_result"
    }
   ],
   "source": [
    "#View Head of Data\n",
    "merged.head()"
   ]
  },
  {
   "cell_type": "markdown",
   "id": "1a56e7dc",
   "metadata": {},
   "source": [
    "2. Address any PII data in the data "
   ]
  },
  {
   "cell_type": "markdown",
   "id": "34ebf227",
   "metadata": {},
   "source": [
    "For this data, the PII that would need to be addressed are the Customer's First and Last Name. Only first names would be fine but when combined with last names this can become a problem. "
   ]
  },
  {
   "cell_type": "markdown",
   "id": "9f834f13",
   "metadata": {},
   "source": [
    "#Note: \n",
    "Dropped First Name and Last Name columns already dropped due to not needing for this assignment \n",
    "due to multiple memory issues"
   ]
  },
  {
   "cell_type": "markdown",
   "id": "698d7c94",
   "metadata": {},
   "source": [
    "3. Create a regional segmentation of the data"
   ]
  },
  {
   "cell_type": "code",
   "execution_count": 7,
   "id": "625fb4bb",
   "metadata": {
    "scrolled": false
   },
   "outputs": [
    {
     "data": {
      "text/plain": [
       "State\n",
       "Alabama                 638003\n",
       "Alaska                  648495\n",
       "Arizona                 653964\n",
       "Arkansas                636144\n",
       "California              659783\n",
       "Colorado                639280\n",
       "Connecticut             623022\n",
       "Delaware                637024\n",
       "District of Columbia    613695\n",
       "Florida                 629027\n",
       "Georgia                 656389\n",
       "Hawaii                  632901\n",
       "Idaho                   607119\n",
       "Illinois                633024\n",
       "Indiana                 627282\n",
       "Iowa                    625493\n",
       "Kansas                  637538\n",
       "Kentucky                632490\n",
       "Louisiana               637482\n",
       "Maine                   638583\n",
       "Maryland                626579\n",
       "Massachusetts           646358\n",
       "Michigan                630928\n",
       "Minnesota               647825\n",
       "Mississippi             632675\n",
       "Missouri                640732\n",
       "Montana                 635265\n",
       "Nebraska                625813\n",
       "Nevada                  636139\n",
       "New Hampshire           615378\n",
       "New Jersey              627692\n",
       "New Mexico              654494\n",
       "New York                635983\n",
       "North Carolina          651900\n",
       "North Dakota            638491\n",
       "Ohio                    628319\n",
       "Oklahoma                651739\n",
       "Oregon                  636425\n",
       "Pennsylvania            667082\n",
       "Rhode Island            656913\n",
       "South Carolina          636754\n",
       "South Dakota            633772\n",
       "Tennessee               617873\n",
       "Texas                   640394\n",
       "Utah                    611941\n",
       "Vermont                 611725\n",
       "Virginia                641421\n",
       "Washington              632852\n",
       "West Virginia           612296\n",
       "Wisconsin               628108\n",
       "Wyoming                 644255\n",
       "Name: count, dtype: int64"
      ]
     },
     "execution_count": 7,
     "metadata": {},
     "output_type": "execute_result"
    }
   ],
   "source": [
    "#View the State Column further\n",
    "merged['State'].value_counts().sort_index()"
   ]
  },
  {
   "cell_type": "code",
   "execution_count": 8,
   "id": "351060e8",
   "metadata": {},
   "outputs": [],
   "source": [
    "#Create a regional segmentation flag\n",
    "region = []\n",
    "\n",
    "for value in merged['State']:\n",
    "  if value in ['Maine',\n",
    "             'New Hampshire', \n",
    "             'Vermont', \n",
    "             'Massachusetts', \n",
    "             'Rhode Island', \n",
    "             'Connecticut', \n",
    "             'New York', 'Pennsylvania', 'New Jersey']:\n",
    "    region.append(\"North East\")\n",
    "  elif value in ['Wisconsin', \n",
    "           'Michigan', \n",
    "           'Illinois', \n",
    "           'Indiana', \n",
    "           'Ohio', \n",
    "           'North Dakota', 'South Dakota', \n",
    "           'Nebraska', 'Kansas', \n",
    "           'Minnesota', 'Iowa', 'Missouri']:\n",
    "    region.append(\"Midwest\")\n",
    "  elif value in ['Delaware', \n",
    "         'Maryland', \n",
    "         'District of Columbia', \n",
    "         'Virginia', 'West Virginia',\n",
    "         'North Carolina', 'South Carolina', \n",
    "         'Georgia', 'Florida', \n",
    "         'Kentucky', 'Tennessee', \n",
    "         'Mississippi', 'Alabama', \n",
    "         'Oklahoma', 'Texas', \n",
    "         'Arkansas', 'Louisiana']:\n",
    "    region.append(\"South\")\n",
    "  elif value in ['Idaho', 'Montana', \n",
    "        'Wyoming', 'Nevada', \n",
    "        'Utah', 'Colorado', \n",
    "        'Arizona', 'New Mexico', \n",
    "        'Alaska', 'Washington', \n",
    "        'Oregon', 'California', 'Hawaii']:\n",
    "    region.append(\"West\")\n",
    "  else:\n",
    "    region.append(\"NaN\")"
   ]
  },
  {
   "cell_type": "code",
   "execution_count": 9,
   "id": "46a83f52",
   "metadata": {},
   "outputs": [],
   "source": [
    "#Create a column for the new 'region' label\n",
    "merged['region'] = region"
   ]
  },
  {
   "cell_type": "code",
   "execution_count": 10,
   "id": "00834ce4",
   "metadata": {},
   "outputs": [
    {
     "data": {
      "text/plain": [
       "region\n",
       "South         10791885\n",
       "West           8292913\n",
       "Midwest        7597325\n",
       "North East     5722736\n",
       "Name: count, dtype: int64"
      ]
     },
     "execution_count": 10,
     "metadata": {},
     "output_type": "execute_result"
    }
   ],
   "source": [
    "#Check value counts of 'region' label\n",
    "merged['region'].value_counts()"
   ]
  },
  {
   "cell_type": "markdown",
   "id": "bc3f63ad",
   "metadata": {},
   "source": [
    "4. Determine whether there’s a difference in spending habits between the different U.S. regions"
   ]
  },
  {
   "cell_type": "code",
   "execution_count": 11,
   "id": "614bf77a",
   "metadata": {},
   "outputs": [],
   "source": [
    "#Create a crosstab of 'region' and 'spender_flag' columns\n",
    "crosstab = pd.crosstab(merged['region'], merged['spender_flag'], dropna = False)"
   ]
  },
  {
   "cell_type": "code",
   "execution_count": 12,
   "id": "0df77d21",
   "metadata": {},
   "outputs": [
    {
     "data": {
      "text/html": [
       "<div>\n",
       "<style scoped>\n",
       "    .dataframe tbody tr th:only-of-type {\n",
       "        vertical-align: middle;\n",
       "    }\n",
       "\n",
       "    .dataframe tbody tr th {\n",
       "        vertical-align: top;\n",
       "    }\n",
       "\n",
       "    .dataframe thead th {\n",
       "        text-align: right;\n",
       "    }\n",
       "</style>\n",
       "<table border=\"1\" class=\"dataframe\">\n",
       "  <thead>\n",
       "    <tr style=\"text-align: right;\">\n",
       "      <th>spender_flag</th>\n",
       "      <th>High Spender</th>\n",
       "      <th>Low Spender</th>\n",
       "    </tr>\n",
       "    <tr>\n",
       "      <th>region</th>\n",
       "      <th></th>\n",
       "      <th></th>\n",
       "    </tr>\n",
       "  </thead>\n",
       "  <tbody>\n",
       "    <tr>\n",
       "      <th>Midwest</th>\n",
       "      <td>155975</td>\n",
       "      <td>7441350</td>\n",
       "    </tr>\n",
       "    <tr>\n",
       "      <th>North East</th>\n",
       "      <td>108225</td>\n",
       "      <td>5614511</td>\n",
       "    </tr>\n",
       "    <tr>\n",
       "      <th>South</th>\n",
       "      <td>209691</td>\n",
       "      <td>10582194</td>\n",
       "    </tr>\n",
       "    <tr>\n",
       "      <th>West</th>\n",
       "      <td>160354</td>\n",
       "      <td>8132559</td>\n",
       "    </tr>\n",
       "  </tbody>\n",
       "</table>\n",
       "</div>"
      ],
      "text/plain": [
       "spender_flag  High Spender  Low Spender\n",
       "region                                 \n",
       "Midwest             155975      7441350\n",
       "North East          108225      5614511\n",
       "South               209691     10582194\n",
       "West                160354      8132559"
      ]
     },
     "execution_count": 12,
     "metadata": {},
     "output_type": "execute_result"
    }
   ],
   "source": [
    "#View Crosstab of these 2 columns\n",
    "crosstab"
   ]
  },
  {
   "cell_type": "code",
   "execution_count": 13,
   "id": "4f4047c4",
   "metadata": {},
   "outputs": [],
   "source": [
    "#import visual libraries\n",
    "import matplotlib.pyplot as plt\n",
    "import seaborn as sns\n",
    "import scipy"
   ]
  },
  {
   "cell_type": "code",
   "execution_count": 15,
   "id": "ebeae247",
   "metadata": {
    "scrolled": true
   },
   "outputs": [
    {
     "data": {
      "text/plain": [
       "Text(0, 0.5, 'Frequency')"
      ]
     },
     "execution_count": 15,
     "metadata": {},
     "output_type": "execute_result"
    },
    {
     "data": {
      "image/png": "[encoded data removed]",
      "text/plain": [
       "<Figure size 640x480 with 1 Axes>"
      ]
     },
     "metadata": {},
     "output_type": "display_data"
    }
   ],
   "source": [
    "#Create Bar Chart\n",
    "regional_spending_bar = crosstab.plot.bar()\n",
    "plt.xlabel(\"Region\", fontsize=10)\n",
    "plt.ylabel(\"Frequency\",fontsize=10)"
   ]
  },
  {
   "cell_type": "code",
   "execution_count": 36,
   "id": "bd17ccae",
   "metadata": {},
   "outputs": [],
   "source": [
    "#Export bar graph\n",
    "regional_spending_bar.figure.savefig(os.path.join(path, '04 Analysis','Visualizations', 'regional_spending_bar.png'))"
   ]
  },
  {
   "cell_type": "markdown",
   "id": "c38269c1",
   "metadata": {},
   "source": [
    "5. Create an exclusion flag for low-activity customers"
   ]
  },
  {
   "cell_type": "code",
   "execution_count": 15,
   "id": "6b17a536",
   "metadata": {
    "scrolled": false
   },
   "outputs": [],
   "source": [
    "#Create a flag for low activity \n",
    "merged.loc[merged['order_number'] < 5, 'customer_activity_flag'] = 'low activity'"
   ]
  },
  {
   "cell_type": "code",
   "execution_count": 16,
   "id": "e01fad30",
   "metadata": {},
   "outputs": [],
   "source": [
    "#Create a flag for high activity \n",
    "merged.loc[merged ['order_number'] >= 5, 'customer_activity_flag'] = 'high activity'"
   ]
  },
  {
   "cell_type": "code",
   "execution_count": 17,
   "id": "b0c88146",
   "metadata": {
    "scrolled": false
   },
   "outputs": [
    {
     "data": {
      "text/plain": [
       "customer_activity_flag\n",
       "high activity    24414877\n",
       "low activity      7989982\n",
       "Name: count, dtype: int64"
      ]
     },
     "execution_count": 17,
     "metadata": {},
     "output_type": "execute_result"
    }
   ],
   "source": [
    "#Check the new flag worked\n",
    "merged['customer_activity_flag'].value_counts()"
   ]
  },
  {
   "cell_type": "code",
   "execution_count": 19,
   "id": "dbece46d",
   "metadata": {},
   "outputs": [],
   "source": [
    "#Isolate high activity customers only\n",
    "merged_high_activity = merged[merged['customer_activity_flag']=='high activity']"
   ]
  },
  {
   "cell_type": "code",
   "execution_count": 20,
   "id": "51c95f33",
   "metadata": {
    "scrolled": true
   },
   "outputs": [
    {
     "data": {
      "text/html": [
       "<div>\n",
       "<style scoped>\n",
       "    .dataframe tbody tr th:only-of-type {\n",
       "        vertical-align: middle;\n",
       "    }\n",
       "\n",
       "    .dataframe tbody tr th {\n",
       "        vertical-align: top;\n",
       "    }\n",
       "\n",
       "    .dataframe thead th {\n",
       "        text-align: right;\n",
       "    }\n",
       "</style>\n",
       "<table border=\"1\" class=\"dataframe\">\n",
       "  <thead>\n",
       "    <tr style=\"text-align: right;\">\n",
       "      <th></th>\n",
       "      <th>department_id</th>\n",
       "      <th>prices</th>\n",
       "      <th>order_id</th>\n",
       "      <th>user_id</th>\n",
       "      <th>order_number</th>\n",
       "      <th>spender_flag</th>\n",
       "      <th>State</th>\n",
       "      <th>Age</th>\n",
       "      <th>n_dependants</th>\n",
       "      <th>income</th>\n",
       "      <th>fam_status</th>\n",
       "      <th>region</th>\n",
       "      <th>customer_activity_flag</th>\n",
       "    </tr>\n",
       "  </thead>\n",
       "  <tbody>\n",
       "    <tr>\n",
       "      <th>0</th>\n",
       "      <td>19</td>\n",
       "      <td>5.8</td>\n",
       "      <td>3139998</td>\n",
       "      <td>138</td>\n",
       "      <td>28</td>\n",
       "      <td>Low Spender</td>\n",
       "      <td>Minnesota</td>\n",
       "      <td>81</td>\n",
       "      <td>1</td>\n",
       "      <td>49620</td>\n",
       "      <td>married</td>\n",
       "      <td>Midwest</td>\n",
       "      <td>high activity</td>\n",
       "    </tr>\n",
       "    <tr>\n",
       "      <th>1</th>\n",
       "      <td>19</td>\n",
       "      <td>5.8</td>\n",
       "      <td>1977647</td>\n",
       "      <td>138</td>\n",
       "      <td>30</td>\n",
       "      <td>Low Spender</td>\n",
       "      <td>Minnesota</td>\n",
       "      <td>81</td>\n",
       "      <td>1</td>\n",
       "      <td>49620</td>\n",
       "      <td>married</td>\n",
       "      <td>Midwest</td>\n",
       "      <td>high activity</td>\n",
       "    </tr>\n",
       "    <tr>\n",
       "      <th>3</th>\n",
       "      <td>12</td>\n",
       "      <td>20.0</td>\n",
       "      <td>2254091</td>\n",
       "      <td>138</td>\n",
       "      <td>10</td>\n",
       "      <td>Low Spender</td>\n",
       "      <td>Minnesota</td>\n",
       "      <td>81</td>\n",
       "      <td>1</td>\n",
       "      <td>49620</td>\n",
       "      <td>married</td>\n",
       "      <td>Midwest</td>\n",
       "      <td>high activity</td>\n",
       "    </tr>\n",
       "    <tr>\n",
       "      <th>4</th>\n",
       "      <td>10</td>\n",
       "      <td>12.9</td>\n",
       "      <td>505689</td>\n",
       "      <td>138</td>\n",
       "      <td>9</td>\n",
       "      <td>Low Spender</td>\n",
       "      <td>Minnesota</td>\n",
       "      <td>81</td>\n",
       "      <td>1</td>\n",
       "      <td>49620</td>\n",
       "      <td>married</td>\n",
       "      <td>Midwest</td>\n",
       "      <td>high activity</td>\n",
       "    </tr>\n",
       "    <tr>\n",
       "      <th>5</th>\n",
       "      <td>4</td>\n",
       "      <td>1.7</td>\n",
       "      <td>960220</td>\n",
       "      <td>138</td>\n",
       "      <td>17</td>\n",
       "      <td>Low Spender</td>\n",
       "      <td>Minnesota</td>\n",
       "      <td>81</td>\n",
       "      <td>1</td>\n",
       "      <td>49620</td>\n",
       "      <td>married</td>\n",
       "      <td>Midwest</td>\n",
       "      <td>high activity</td>\n",
       "    </tr>\n",
       "  </tbody>\n",
       "</table>\n",
       "</div>"
      ],
      "text/plain": [
       "   department_id  prices  order_id  user_id  order_number spender_flag  \\\n",
       "0             19     5.8   3139998      138            28  Low Spender   \n",
       "1             19     5.8   1977647      138            30  Low Spender   \n",
       "3             12    20.0   2254091      138            10  Low Spender   \n",
       "4             10    12.9    505689      138             9  Low Spender   \n",
       "5              4     1.7    960220      138            17  Low Spender   \n",
       "\n",
       "       State  Age  n_dependants  income fam_status   region  \\\n",
       "0  Minnesota   81             1   49620    married  Midwest   \n",
       "1  Minnesota   81             1   49620    married  Midwest   \n",
       "3  Minnesota   81             1   49620    married  Midwest   \n",
       "4  Minnesota   81             1   49620    married  Midwest   \n",
       "5  Minnesota   81             1   49620    married  Midwest   \n",
       "\n",
       "  customer_activity_flag  \n",
       "0          high activity  \n",
       "1          high activity  \n",
       "3          high activity  \n",
       "4          high activity  \n",
       "5          high activity  "
      ]
     },
     "execution_count": 20,
     "metadata": {},
     "output_type": "execute_result"
    }
   ],
   "source": [
    "merged_high_activity.head()"
   ]
  },
  {
   "cell_type": "code",
   "execution_count": 21,
   "id": "d40d0f8c",
   "metadata": {},
   "outputs": [],
   "source": [
    "#Export new dataset with only high_activity customers\n",
    "merged_high_activity.to_pickle(os.path.join(path, '02 Data','Prepared Data', 'merged_high_activity.pkl'))"
   ]
  },
  {
   "cell_type": "markdown",
   "id": "93b0cc7f",
   "metadata": {},
   "source": [
    "6. Create customer profiles based on Age, Income, Department Purchases and Incomes"
   ]
  },
  {
   "cell_type": "markdown",
   "id": "97a22901",
   "metadata": {},
   "source": [
    "6a. Create profiles based on Age"
   ]
  },
  {
   "cell_type": "code",
   "execution_count": 23,
   "id": "7335c70c",
   "metadata": {},
   "outputs": [],
   "source": [
    "#Create an 18-29 Group\n",
    "age_group_18_29 = merged.loc[merged['Age'] <= 29, 'age_group'] = '18-29'"
   ]
  },
  {
   "cell_type": "code",
   "execution_count": 24,
   "id": "a832c180",
   "metadata": {},
   "outputs": [],
   "source": [
    "#Create an 30-39 Group\n",
    "age_group_30_39 = merged.loc[(merged['Age'] > 29) & (merged['Age'] <= 39), 'age_group'] = '30-39'"
   ]
  },
  {
   "cell_type": "code",
   "execution_count": 25,
   "id": "cbd535be",
   "metadata": {},
   "outputs": [],
   "source": [
    "#Create an 40-49 Group\n",
    "age_group_40_49 = merged.loc[(merged['Age'] > 39) & (merged['Age'] <= 49), 'age_group'] = '40-49'"
   ]
  },
  {
   "cell_type": "code",
   "execution_count": 26,
   "id": "44a84eff",
   "metadata": {},
   "outputs": [],
   "source": [
    "#Create an 50-64 Group\n",
    "age_group_50_64 = merged.loc[(merged['Age'] > 49) & (merged['Age'] <= 64), 'age_group'] = '50-64'"
   ]
  },
  {
   "cell_type": "code",
   "execution_count": 27,
   "id": "f036459d",
   "metadata": {},
   "outputs": [],
   "source": [
    "#Create an 65+ Group\n",
    "age_group_65_up = merged.loc[merged['Age'] >= 65, 'age_group'] = '65_up'"
   ]
  },
  {
   "cell_type": "code",
   "execution_count": 28,
   "id": "16477ed9",
   "metadata": {},
   "outputs": [
    {
     "data": {
      "text/plain": [
       "age_group\n",
       "65_up    8575084\n",
       "50-64    7556346\n",
       "18-29    6090441\n",
       "40-49    5109237\n",
       "30-39    5073751\n",
       "Name: count, dtype: int64"
      ]
     },
     "execution_count": 28,
     "metadata": {},
     "output_type": "execute_result"
    }
   ],
   "source": [
    "#Check value counts of new age grouping\n",
    "merged['age_group'].value_counts(dropna = False)"
   ]
  },
  {
   "cell_type": "markdown",
   "id": "0d83d010",
   "metadata": {},
   "source": [
    "6b. Create Profiles based on income"
   ]
  },
  {
   "cell_type": "code",
   "execution_count": 29,
   "id": "2a88106a",
   "metadata": {},
   "outputs": [
    {
     "data": {
      "text/plain": [
       "count    3.240486e+07\n",
       "mean     9.943773e+04\n",
       "std      4.305727e+04\n",
       "min      2.590300e+04\n",
       "25%      6.700400e+04\n",
       "50%      9.661800e+04\n",
       "75%      1.279120e+05\n",
       "max      5.939010e+05\n",
       "Name: income, dtype: float64"
      ]
     },
     "execution_count": 29,
     "metadata": {},
     "output_type": "execute_result"
    }
   ],
   "source": [
    "#Analyze the income column\n",
    "merged['income'].describe()"
   ]
  },
  {
   "cell_type": "code",
   "execution_count": 30,
   "id": "f55251aa",
   "metadata": {},
   "outputs": [],
   "source": [
    "#Create a low income group\n",
    "low_income = merged.loc[merged['income'] <= 67004.0, 'income_group'] = 'Low Income'"
   ]
  },
  {
   "cell_type": "code",
   "execution_count": 31,
   "id": "351d8a46",
   "metadata": {},
   "outputs": [],
   "source": [
    "#Create a middle income group\n",
    "middle_income = merged.loc[(merged['income'] > 67004.0) & (merged['income'] <= 96618.0), 'income_group'] = 'Middle Income'"
   ]
  },
  {
   "cell_type": "code",
   "execution_count": null,
   "id": "548c2460",
   "metadata": {},
   "outputs": [],
   "source": [
    "#Create a high income group\n",
    "high_income = merged.loc[(merged['income'] > 96618.0) & (merged['income'] <= 127912.0), 'income_group'] = 'High Income'"
   ]
  },
  {
   "cell_type": "code",
   "execution_count": 34,
   "id": "e6b5a73e",
   "metadata": {},
   "outputs": [],
   "source": [
    "#Create a very high income group\n",
    "very_high_income = merged.loc[merged['income'] >127912.0, 'income_group'] = 'Very High Income'"
   ]
  },
  {
   "cell_type": "code",
   "execution_count": 35,
   "id": "cd929ff4",
   "metadata": {
    "scrolled": false
   },
   "outputs": [
    {
     "data": {
      "text/plain": [
       "income_group\n",
       "Low Income          8101644\n",
       "High Income         8101201\n",
       "Very High Income    8101038\n",
       "Middle Income       8100976\n",
       "Name: count, dtype: int64"
      ]
     },
     "execution_count": 35,
     "metadata": {},
     "output_type": "execute_result"
    }
   ],
   "source": [
    "merged['income_group'].value_counts(dropna = False)"
   ]
  },
  {
   "cell_type": "markdown",
   "id": "ecc260ed",
   "metadata": {},
   "source": [
    "6c. Create profiles based on departments "
   ]
  },
  {
   "cell_type": "code",
   "execution_count": 36,
   "id": "947b361d",
   "metadata": {},
   "outputs": [],
   "source": [
    "#Import 'departments_wrangled' dataset\n",
    "departments = pd.read_csv(os.path.join(path,'02 Data', 'Prepared Data', 'department_wrangled.csv'), index_col= False)"
   ]
  },
  {
   "cell_type": "code",
   "execution_count": 37,
   "id": "bb53857c",
   "metadata": {
    "scrolled": true
   },
   "outputs": [
    {
     "data": {
      "text/html": [
       "<div>\n",
       "<style scoped>\n",
       "    .dataframe tbody tr th:only-of-type {\n",
       "        vertical-align: middle;\n",
       "    }\n",
       "\n",
       "    .dataframe tbody tr th {\n",
       "        vertical-align: top;\n",
       "    }\n",
       "\n",
       "    .dataframe thead th {\n",
       "        text-align: right;\n",
       "    }\n",
       "</style>\n",
       "<table border=\"1\" class=\"dataframe\">\n",
       "  <thead>\n",
       "    <tr style=\"text-align: right;\">\n",
       "      <th></th>\n",
       "      <th>Unnamed: 0</th>\n",
       "      <th>department</th>\n",
       "    </tr>\n",
       "  </thead>\n",
       "  <tbody>\n",
       "    <tr>\n",
       "      <th>0</th>\n",
       "      <td>1</td>\n",
       "      <td>frozen</td>\n",
       "    </tr>\n",
       "    <tr>\n",
       "      <th>1</th>\n",
       "      <td>2</td>\n",
       "      <td>other</td>\n",
       "    </tr>\n",
       "    <tr>\n",
       "      <th>2</th>\n",
       "      <td>3</td>\n",
       "      <td>bakery</td>\n",
       "    </tr>\n",
       "    <tr>\n",
       "      <th>3</th>\n",
       "      <td>4</td>\n",
       "      <td>produce</td>\n",
       "    </tr>\n",
       "    <tr>\n",
       "      <th>4</th>\n",
       "      <td>5</td>\n",
       "      <td>alcohol</td>\n",
       "    </tr>\n",
       "  </tbody>\n",
       "</table>\n",
       "</div>"
      ],
      "text/plain": [
       "   Unnamed: 0 department\n",
       "0           1     frozen\n",
       "1           2      other\n",
       "2           3     bakery\n",
       "3           4    produce\n",
       "4           5    alcohol"
      ]
     },
     "execution_count": 37,
     "metadata": {},
     "output_type": "execute_result"
    }
   ],
   "source": [
    "#View departments df\n",
    "departments.head()"
   ]
  },
  {
   "cell_type": "code",
   "execution_count": 38,
   "id": "a4192076",
   "metadata": {},
   "outputs": [],
   "source": [
    "#Rename 'Unnamed:0' column\n",
    "departments.rename(columns={'Unnamed: 0':'department_id'},inplace=True)"
   ]
  },
  {
   "cell_type": "code",
   "execution_count": 39,
   "id": "6bccd7c6",
   "metadata": {
    "scrolled": false
   },
   "outputs": [
    {
     "data": {
      "text/html": [
       "<div>\n",
       "<style scoped>\n",
       "    .dataframe tbody tr th:only-of-type {\n",
       "        vertical-align: middle;\n",
       "    }\n",
       "\n",
       "    .dataframe tbody tr th {\n",
       "        vertical-align: top;\n",
       "    }\n",
       "\n",
       "    .dataframe thead th {\n",
       "        text-align: right;\n",
       "    }\n",
       "</style>\n",
       "<table border=\"1\" class=\"dataframe\">\n",
       "  <thead>\n",
       "    <tr style=\"text-align: right;\">\n",
       "      <th></th>\n",
       "      <th>department_id</th>\n",
       "      <th>department</th>\n",
       "    </tr>\n",
       "  </thead>\n",
       "  <tbody>\n",
       "    <tr>\n",
       "      <th>0</th>\n",
       "      <td>1</td>\n",
       "      <td>frozen</td>\n",
       "    </tr>\n",
       "    <tr>\n",
       "      <th>1</th>\n",
       "      <td>2</td>\n",
       "      <td>other</td>\n",
       "    </tr>\n",
       "    <tr>\n",
       "      <th>2</th>\n",
       "      <td>3</td>\n",
       "      <td>bakery</td>\n",
       "    </tr>\n",
       "    <tr>\n",
       "      <th>3</th>\n",
       "      <td>4</td>\n",
       "      <td>produce</td>\n",
       "    </tr>\n",
       "    <tr>\n",
       "      <th>4</th>\n",
       "      <td>5</td>\n",
       "      <td>alcohol</td>\n",
       "    </tr>\n",
       "    <tr>\n",
       "      <th>5</th>\n",
       "      <td>6</td>\n",
       "      <td>international</td>\n",
       "    </tr>\n",
       "    <tr>\n",
       "      <th>6</th>\n",
       "      <td>7</td>\n",
       "      <td>beverages</td>\n",
       "    </tr>\n",
       "    <tr>\n",
       "      <th>7</th>\n",
       "      <td>8</td>\n",
       "      <td>pets</td>\n",
       "    </tr>\n",
       "    <tr>\n",
       "      <th>8</th>\n",
       "      <td>9</td>\n",
       "      <td>dry goods pasta</td>\n",
       "    </tr>\n",
       "    <tr>\n",
       "      <th>9</th>\n",
       "      <td>10</td>\n",
       "      <td>bulk</td>\n",
       "    </tr>\n",
       "    <tr>\n",
       "      <th>10</th>\n",
       "      <td>11</td>\n",
       "      <td>personal care</td>\n",
       "    </tr>\n",
       "    <tr>\n",
       "      <th>11</th>\n",
       "      <td>12</td>\n",
       "      <td>meat seafood</td>\n",
       "    </tr>\n",
       "    <tr>\n",
       "      <th>12</th>\n",
       "      <td>13</td>\n",
       "      <td>pantry</td>\n",
       "    </tr>\n",
       "    <tr>\n",
       "      <th>13</th>\n",
       "      <td>14</td>\n",
       "      <td>breakfast</td>\n",
       "    </tr>\n",
       "    <tr>\n",
       "      <th>14</th>\n",
       "      <td>15</td>\n",
       "      <td>canned goods</td>\n",
       "    </tr>\n",
       "    <tr>\n",
       "      <th>15</th>\n",
       "      <td>16</td>\n",
       "      <td>dairy eggs</td>\n",
       "    </tr>\n",
       "    <tr>\n",
       "      <th>16</th>\n",
       "      <td>17</td>\n",
       "      <td>household</td>\n",
       "    </tr>\n",
       "    <tr>\n",
       "      <th>17</th>\n",
       "      <td>18</td>\n",
       "      <td>babies</td>\n",
       "    </tr>\n",
       "    <tr>\n",
       "      <th>18</th>\n",
       "      <td>19</td>\n",
       "      <td>snacks</td>\n",
       "    </tr>\n",
       "    <tr>\n",
       "      <th>19</th>\n",
       "      <td>20</td>\n",
       "      <td>deli</td>\n",
       "    </tr>\n",
       "    <tr>\n",
       "      <th>20</th>\n",
       "      <td>21</td>\n",
       "      <td>missing</td>\n",
       "    </tr>\n",
       "  </tbody>\n",
       "</table>\n",
       "</div>"
      ],
      "text/plain": [
       "    department_id       department\n",
       "0               1           frozen\n",
       "1               2            other\n",
       "2               3           bakery\n",
       "3               4          produce\n",
       "4               5          alcohol\n",
       "5               6    international\n",
       "6               7        beverages\n",
       "7               8             pets\n",
       "8               9  dry goods pasta\n",
       "9              10             bulk\n",
       "10             11    personal care\n",
       "11             12     meat seafood\n",
       "12             13           pantry\n",
       "13             14        breakfast\n",
       "14             15     canned goods\n",
       "15             16       dairy eggs\n",
       "16             17        household\n",
       "17             18           babies\n",
       "18             19           snacks\n",
       "19             20             deli\n",
       "20             21          missing"
      ]
     },
     "execution_count": 39,
     "metadata": {},
     "output_type": "execute_result"
    }
   ],
   "source": [
    "#Check rename was successful\n",
    "departments.head(21)"
   ]
  },
  {
   "cell_type": "code",
   "execution_count": 41,
   "id": "c2f6617e",
   "metadata": {},
   "outputs": [],
   "source": [
    "#Create labels for departments\n",
    "dept_label = []\n",
    "\n",
    "for value in merged[\"department_id\"]:\n",
    "  if value in [1, 4, 7, 9, 10, 12, 13, 15, 16, 19, 20]:\n",
    "    dept_label.append(\"Groceries\")\n",
    "  elif value in [3, 5, 6, 8, 11, 14, 17, 18,]:\n",
    "    dept_label.append(\"Non_Groceries\")\n",
    "  else:\n",
    "    dept_label.append(\"Other\")"
   ]
  },
  {
   "cell_type": "code",
   "execution_count": 42,
   "id": "6a60b73b",
   "metadata": {},
   "outputs": [],
   "source": [
    "#Create a new column for dept_label\n",
    "merged['dept_label'] = dept_label"
   ]
  },
  {
   "cell_type": "markdown",
   "id": "204bfe75",
   "metadata": {},
   "source": [
    "6d. Create profiles based on number of dependants"
   ]
  },
  {
   "cell_type": "code",
   "execution_count": 43,
   "id": "cd6e419e",
   "metadata": {},
   "outputs": [],
   "source": [
    "#Create a label for customer with no dependants\n",
    "no_dependants = merged.loc[merged['n_dependants'] == 0, 'n_dependants_group'] = 'Single Adult'"
   ]
  },
  {
   "cell_type": "code",
   "execution_count": 44,
   "id": "1bc2938f",
   "metadata": {},
   "outputs": [],
   "source": [
    "#Create a label for customer with 1 dependant\n",
    "Young_Parents = merged.loc[merged['n_dependants'] == 1, 'n_dependants_group'] = 'Young Parent'"
   ]
  },
  {
   "cell_type": "code",
   "execution_count": 45,
   "id": "918bfe47",
   "metadata": {},
   "outputs": [],
   "source": [
    "#Create a label for customer with 2+ dependants\n",
    "Large_Family = merged.loc[merged['n_dependants'] >= 2, 'n_dependants_group'] = 'Large Family'"
   ]
  },
  {
   "cell_type": "code",
   "execution_count": 46,
   "id": "e25420e3",
   "metadata": {
    "scrolled": true
   },
   "outputs": [
    {
     "data": {
      "text/plain": [
       "n_dependants_group\n",
       "Large Family    16226252\n",
       "Single Adult     8097503\n",
       "Young Parent     8081104\n",
       "Name: count, dtype: int64"
      ]
     },
     "execution_count": 46,
     "metadata": {},
     "output_type": "execute_result"
    }
   ],
   "source": [
    "#Check value counts of dependant label\n",
    "merged['n_dependants_group'].value_counts(dropna = False)"
   ]
  },
  {
   "cell_type": "markdown",
   "id": "644ad6ac",
   "metadata": {},
   "source": [
    "7. Export Updated Dataset"
   ]
  },
  {
   "cell_type": "code",
   "execution_count": 47,
   "id": "19ff8ec6",
   "metadata": {},
   "outputs": [],
   "source": [
    "#Export merged_updated data with new data types\n",
    "merged.to_pickle(os.path.join(path, '02 Data','Prepared Data', 'merged_410_new.pkl'))"
   ]
  }
 ],
 "metadata": {
  "kernelspec": {
   "display_name": "Python 3 (ipykernel)",
   "language": "python",
   "name": "python3"
  },
  "language_info": {
   "codemirror_mode": {
    "name": "ipython",
    "version": 3
   },
   "file_extension": ".py",
   "mimetype": "text/x-python",
   "name": "python",
   "nbconvert_exporter": "python",
   "pygments_lexer": "ipython3",
   "version": "3.11.4"
  }
 },
 "nbformat": 4,
 "nbformat_minor": 5
}
