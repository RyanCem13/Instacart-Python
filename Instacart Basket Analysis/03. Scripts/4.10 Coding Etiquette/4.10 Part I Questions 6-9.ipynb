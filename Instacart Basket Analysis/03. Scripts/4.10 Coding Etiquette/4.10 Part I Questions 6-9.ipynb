{
 "cells": [
  {
   "cell_type": "markdown",
   "id": "b076daf8",
   "metadata": {},
   "source": [
    "# 4.10: Coding Etiquette & Excel Reporting\n",
    "# Questions 6-9"
   ]
  },
  {
   "cell_type": "markdown",
   "id": "94ec104a",
   "metadata": {},
   "source": [
    "Content List:\n",
    "1. Import Libraries, Create Path and Import Datasets\n",
    "2. Create Bar Charts for newly created customer profiles\n",
    "3. Aggregate the max, mean, and min variables on a customer-profile level for usage frequency and expenditure\n",
    "4. Compare customer profiles with regions. Produce suitable charts to illustrate results.\n",
    "5. Compare customer profiles with departments. Produce suitable charts to illustrate results."
   ]
  },
  {
   "cell_type": "markdown",
   "id": "296bd64a",
   "metadata": {},
   "source": [
    "1. Import Libraries, Create Path and Import Datasets"
   ]
  },
  {
   "cell_type": "code",
   "execution_count": 1,
   "id": "6453ba72",
   "metadata": {},
   "outputs": [],
   "source": [
    "#import libraries\n",
    "import pandas as pd\n",
    "import numpy as np\n",
    "import os\n",
    "\n",
    "#import visual libraries\n",
    "import matplotlib.pyplot as plt\n",
    "import seaborn as sns\n",
    "import scipy"
   ]
  },
  {
   "cell_type": "code",
   "execution_count": 2,
   "id": "b061a5c0",
   "metadata": {},
   "outputs": [],
   "source": [
    "#Create Path\n",
    "path = r'C:\\Users\\ryanc\\OneDrive\\Documents\\Data Analytics Exercises\\Python\\Instacart Basket Analysis'"
   ]
  },
  {
   "cell_type": "code",
   "execution_count": 3,
   "id": "6f55dba9",
   "metadata": {},
   "outputs": [],
   "source": [
    "#Import merged_410_new df\n",
    "merged = pd.read_pickle(os.path.join(path, '02 Data', 'Prepared Data', 'merged_410_new.pkl'))"
   ]
  },
  {
   "cell_type": "code",
   "execution_count": 4,
   "id": "9d261424",
   "metadata": {
    "scrolled": true
   },
   "outputs": [
    {
     "data": {
      "text/plain": [
       "(32404859, 17)"
      ]
     },
     "execution_count": 4,
     "metadata": {},
     "output_type": "execute_result"
    }
   ],
   "source": [
    "#Check shape of data\n",
    "merged.shape"
   ]
  },
  {
   "cell_type": "markdown",
   "id": "a49d09e0",
   "metadata": {},
   "source": [
    "2. Create Bar Charts for newly created customer profiles"
   ]
  },
  {
   "cell_type": "code",
   "execution_count": 5,
   "id": "59c8bb7f",
   "metadata": {},
   "outputs": [],
   "source": [
    "#See all columns\n",
    "pd.set_option('display.max_columns', None)"
   ]
  },
  {
   "cell_type": "code",
   "execution_count": 6,
   "id": "0cda254b",
   "metadata": {},
   "outputs": [
    {
     "data": {
      "text/html": [
       "<div>\n",
       "<style scoped>\n",
       "    .dataframe tbody tr th:only-of-type {\n",
       "        vertical-align: middle;\n",
       "    }\n",
       "\n",
       "    .dataframe tbody tr th {\n",
       "        vertical-align: top;\n",
       "    }\n",
       "\n",
       "    .dataframe thead th {\n",
       "        text-align: right;\n",
       "    }\n",
       "</style>\n",
       "<table border=\"1\" class=\"dataframe\">\n",
       "  <thead>\n",
       "    <tr style=\"text-align: right;\">\n",
       "      <th></th>\n",
       "      <th>department_id</th>\n",
       "      <th>prices</th>\n",
       "      <th>order_id</th>\n",
       "      <th>user_id</th>\n",
       "      <th>order_number</th>\n",
       "      <th>spender_flag</th>\n",
       "      <th>State</th>\n",
       "      <th>Age</th>\n",
       "      <th>n_dependants</th>\n",
       "      <th>income</th>\n",
       "      <th>fam_status</th>\n",
       "      <th>region</th>\n",
       "      <th>customer_activity_flag</th>\n",
       "      <th>age_group</th>\n",
       "      <th>income_group</th>\n",
       "      <th>dept_label</th>\n",
       "      <th>n_dependants_group</th>\n",
       "    </tr>\n",
       "  </thead>\n",
       "  <tbody>\n",
       "    <tr>\n",
       "      <th>0</th>\n",
       "      <td>19</td>\n",
       "      <td>5.8</td>\n",
       "      <td>3139998</td>\n",
       "      <td>138</td>\n",
       "      <td>28</td>\n",
       "      <td>Low Spender</td>\n",
       "      <td>Minnesota</td>\n",
       "      <td>81</td>\n",
       "      <td>1</td>\n",
       "      <td>49620</td>\n",
       "      <td>married</td>\n",
       "      <td>Midwest</td>\n",
       "      <td>high activity</td>\n",
       "      <td>65_up</td>\n",
       "      <td>Low Income</td>\n",
       "      <td>Groceries</td>\n",
       "      <td>Young Parent</td>\n",
       "    </tr>\n",
       "    <tr>\n",
       "      <th>1</th>\n",
       "      <td>19</td>\n",
       "      <td>5.8</td>\n",
       "      <td>1977647</td>\n",
       "      <td>138</td>\n",
       "      <td>30</td>\n",
       "      <td>Low Spender</td>\n",
       "      <td>Minnesota</td>\n",
       "      <td>81</td>\n",
       "      <td>1</td>\n",
       "      <td>49620</td>\n",
       "      <td>married</td>\n",
       "      <td>Midwest</td>\n",
       "      <td>high activity</td>\n",
       "      <td>65_up</td>\n",
       "      <td>Low Income</td>\n",
       "      <td>Groceries</td>\n",
       "      <td>Young Parent</td>\n",
       "    </tr>\n",
       "    <tr>\n",
       "      <th>2</th>\n",
       "      <td>12</td>\n",
       "      <td>20.0</td>\n",
       "      <td>3160996</td>\n",
       "      <td>138</td>\n",
       "      <td>1</td>\n",
       "      <td>Low Spender</td>\n",
       "      <td>Minnesota</td>\n",
       "      <td>81</td>\n",
       "      <td>1</td>\n",
       "      <td>49620</td>\n",
       "      <td>married</td>\n",
       "      <td>Midwest</td>\n",
       "      <td>low activity</td>\n",
       "      <td>65_up</td>\n",
       "      <td>Low Income</td>\n",
       "      <td>Groceries</td>\n",
       "      <td>Young Parent</td>\n",
       "    </tr>\n",
       "    <tr>\n",
       "      <th>3</th>\n",
       "      <td>12</td>\n",
       "      <td>20.0</td>\n",
       "      <td>2254091</td>\n",
       "      <td>138</td>\n",
       "      <td>10</td>\n",
       "      <td>Low Spender</td>\n",
       "      <td>Minnesota</td>\n",
       "      <td>81</td>\n",
       "      <td>1</td>\n",
       "      <td>49620</td>\n",
       "      <td>married</td>\n",
       "      <td>Midwest</td>\n",
       "      <td>high activity</td>\n",
       "      <td>65_up</td>\n",
       "      <td>Low Income</td>\n",
       "      <td>Groceries</td>\n",
       "      <td>Young Parent</td>\n",
       "    </tr>\n",
       "    <tr>\n",
       "      <th>4</th>\n",
       "      <td>10</td>\n",
       "      <td>12.9</td>\n",
       "      <td>505689</td>\n",
       "      <td>138</td>\n",
       "      <td>9</td>\n",
       "      <td>Low Spender</td>\n",
       "      <td>Minnesota</td>\n",
       "      <td>81</td>\n",
       "      <td>1</td>\n",
       "      <td>49620</td>\n",
       "      <td>married</td>\n",
       "      <td>Midwest</td>\n",
       "      <td>high activity</td>\n",
       "      <td>65_up</td>\n",
       "      <td>Low Income</td>\n",
       "      <td>Groceries</td>\n",
       "      <td>Young Parent</td>\n",
       "    </tr>\n",
       "  </tbody>\n",
       "</table>\n",
       "</div>"
      ],
      "text/plain": [
       "   department_id  prices  order_id  user_id  order_number spender_flag  \\\n",
       "0             19     5.8   3139998      138            28  Low Spender   \n",
       "1             19     5.8   1977647      138            30  Low Spender   \n",
       "2             12    20.0   3160996      138             1  Low Spender   \n",
       "3             12    20.0   2254091      138            10  Low Spender   \n",
       "4             10    12.9    505689      138             9  Low Spender   \n",
       "\n",
       "       State  Age  n_dependants  income fam_status   region  \\\n",
       "0  Minnesota   81             1   49620    married  Midwest   \n",
       "1  Minnesota   81             1   49620    married  Midwest   \n",
       "2  Minnesota   81             1   49620    married  Midwest   \n",
       "3  Minnesota   81             1   49620    married  Midwest   \n",
       "4  Minnesota   81             1   49620    married  Midwest   \n",
       "\n",
       "  customer_activity_flag age_group income_group dept_label n_dependants_group  \n",
       "0          high activity     65_up   Low Income  Groceries       Young Parent  \n",
       "1          high activity     65_up   Low Income  Groceries       Young Parent  \n",
       "2           low activity     65_up   Low Income  Groceries       Young Parent  \n",
       "3          high activity     65_up   Low Income  Groceries       Young Parent  \n",
       "4          high activity     65_up   Low Income  Groceries       Young Parent  "
      ]
     },
     "execution_count": 6,
     "metadata": {},
     "output_type": "execute_result"
    }
   ],
   "source": [
    "#View head of data\n",
    "merged.head()"
   ]
  },
  {
   "cell_type": "code",
   "execution_count": 7,
   "id": "a5b18d02",
   "metadata": {},
   "outputs": [
    {
     "data": {
      "text/plain": [
       "Text(0.5, 1.0, 'Customer Age Groups')"
      ]
     },
     "execution_count": 7,
     "metadata": {},
     "output_type": "execute_result"
    },
    {
     "data": {
      "image/png": "[encoded data removed]",
      "text/plain": [
       "<Figure size 640x480 with 1 Axes>"
      ]
     },
     "metadata": {},
     "output_type": "display_data"
    }
   ],
   "source": [
    "#Create a bar chart for age groups\n",
    "bar_age_groups = merged['age_group'].value_counts().sort_index().plot.bar()\n",
    "plt.title(\"Customer Age Groups\",fontsize=12)"
   ]
  },
  {
   "cell_type": "code",
   "execution_count": 10,
   "id": "7a7cdb07",
   "metadata": {},
   "outputs": [],
   "source": [
    "#Export the chart\n",
    "bar_age_groups.figure.savefig(os.path.join(path, '04 Analysis', 'Visualizations', 'bar_age_groups.png'))"
   ]
  },
  {
   "cell_type": "code",
   "execution_count": 8,
   "id": "3ae276ee",
   "metadata": {},
   "outputs": [
    {
     "data": {
      "text/plain": [
       "Text(0.5, 1.0, 'Income Groups')"
      ]
     },
     "execution_count": 8,
     "metadata": {},
     "output_type": "execute_result"
    },
    {
     "data": {
      "image/png": "[encoded data removed]",
      "text/plain": [
       "<Figure size 640x480 with 1 Axes>"
      ]
     },
     "metadata": {},
     "output_type": "display_data"
    }
   ],
   "source": [
    "#Create a bar chart for income groups\n",
    "bar_incomes_groups = merged['income_group'].value_counts().sort_index().plot.bar()\n",
    "plt.title(\"Income Groups\",fontsize=12)"
   ]
  },
  {
   "cell_type": "code",
   "execution_count": 14,
   "id": "b5319f0d",
   "metadata": {},
   "outputs": [],
   "source": [
    "#Export the chart\n",
    "bar_incomes_groups.figure.savefig(os.path.join(path, '04 Analysis', 'Visualizations', 'bar_incomes_groups.png'))"
   ]
  },
  {
   "cell_type": "code",
   "execution_count": 9,
   "id": "9349e021",
   "metadata": {},
   "outputs": [
    {
     "data": {
      "text/plain": [
       "Text(0.5, 1.0, 'Departments')"
      ]
     },
     "execution_count": 9,
     "metadata": {},
     "output_type": "execute_result"
    },
    {
     "data": {
      "image/png": "[encoded data removed]",
      "text/plain": [
       "<Figure size 640x480 with 1 Axes>"
      ]
     },
     "metadata": {},
     "output_type": "display_data"
    }
   ],
   "source": [
    "#Create a bar chart for dept_label\n",
    "bar_dept_label = merged['dept_label'].value_counts().sort_index().plot.bar()\n",
    "plt.title(\"Departments\",fontsize=12)"
   ]
  },
  {
   "cell_type": "code",
   "execution_count": 16,
   "id": "aae421e3",
   "metadata": {},
   "outputs": [],
   "source": [
    "#Export the chart\n",
    "bar_dept_label.figure.savefig(os.path.join(path, '04 Analysis', 'Visualizations', 'bar_dept_label.png'))"
   ]
  },
  {
   "cell_type": "code",
   "execution_count": 10,
   "id": "48644063",
   "metadata": {},
   "outputs": [
    {
     "data": {
      "text/plain": [
       "Text(0.5, 1.0, 'Dependants')"
      ]
     },
     "execution_count": 10,
     "metadata": {},
     "output_type": "execute_result"
    },
    {
     "data": {
      "image/png": "[encoded data removed]",
      "text/plain": [
       "<Figure size 640x480 with 1 Axes>"
      ]
     },
     "metadata": {},
     "output_type": "display_data"
    }
   ],
   "source": [
    "#Create a bar chart for number of dependants\n",
    "n_dependants = merged['n_dependants_group'].value_counts().sort_index().plot.bar()\n",
    "plt.title(\"Dependants\",fontsize=12)"
   ]
  },
  {
   "cell_type": "code",
   "execution_count": 18,
   "id": "90361968",
   "metadata": {},
   "outputs": [],
   "source": [
    "#Export the chart\n",
    "n_dependants.figure.savefig(os.path.join(path, '04 Analysis', 'Visualizations', 'bar_n_dependants.png'))"
   ]
  },
  {
   "cell_type": "markdown",
   "id": "725ed936",
   "metadata": {},
   "source": [
    "3. Aggregate the max, mean, and min variables on a customer-profile level for usage frequency and expenditure"
   ]
  },
  {
   "cell_type": "code",
   "execution_count": 11,
   "id": "1bf91f25",
   "metadata": {},
   "outputs": [],
   "source": [
    "##Age Groups\n",
    "#Aggregate the max, mean, and min variables of age groups for order_number and prices \n",
    "Age_group_agg = merged.groupby('age_group').agg({'order_number': ['mean', 'min', 'max'],  'prices': ['mean', 'min', 'max']})"
   ]
  },
  {
   "cell_type": "code",
   "execution_count": 12,
   "id": "898d41e9",
   "metadata": {},
   "outputs": [
    {
     "data": {
      "text/html": [
       "<div>\n",
       "<style scoped>\n",
       "    .dataframe tbody tr th:only-of-type {\n",
       "        vertical-align: middle;\n",
       "    }\n",
       "\n",
       "    .dataframe tbody tr th {\n",
       "        vertical-align: top;\n",
       "    }\n",
       "\n",
       "    .dataframe thead tr th {\n",
       "        text-align: left;\n",
       "    }\n",
       "\n",
       "    .dataframe thead tr:last-of-type th {\n",
       "        text-align: right;\n",
       "    }\n",
       "</style>\n",
       "<table border=\"1\" class=\"dataframe\">\n",
       "  <thead>\n",
       "    <tr>\n",
       "      <th></th>\n",
       "      <th colspan=\"3\" halign=\"left\">order_number</th>\n",
       "      <th colspan=\"3\" halign=\"left\">prices</th>\n",
       "    </tr>\n",
       "    <tr>\n",
       "      <th></th>\n",
       "      <th>mean</th>\n",
       "      <th>min</th>\n",
       "      <th>max</th>\n",
       "      <th>mean</th>\n",
       "      <th>min</th>\n",
       "      <th>max</th>\n",
       "    </tr>\n",
       "    <tr>\n",
       "      <th>age_group</th>\n",
       "      <th></th>\n",
       "      <th></th>\n",
       "      <th></th>\n",
       "      <th></th>\n",
       "      <th></th>\n",
       "      <th></th>\n",
       "    </tr>\n",
       "  </thead>\n",
       "  <tbody>\n",
       "    <tr>\n",
       "      <th>18-29</th>\n",
       "      <td>17.107372</td>\n",
       "      <td>1</td>\n",
       "      <td>99</td>\n",
       "      <td>12.171977</td>\n",
       "      <td>1.0</td>\n",
       "      <td>99999.0</td>\n",
       "    </tr>\n",
       "    <tr>\n",
       "      <th>30-39</th>\n",
       "      <td>17.244223</td>\n",
       "      <td>1</td>\n",
       "      <td>99</td>\n",
       "      <td>11.933288</td>\n",
       "      <td>1.0</td>\n",
       "      <td>99999.0</td>\n",
       "    </tr>\n",
       "    <tr>\n",
       "      <th>40-49</th>\n",
       "      <td>17.151719</td>\n",
       "      <td>1</td>\n",
       "      <td>99</td>\n",
       "      <td>12.384515</td>\n",
       "      <td>1.0</td>\n",
       "      <td>99999.0</td>\n",
       "    </tr>\n",
       "    <tr>\n",
       "      <th>50-64</th>\n",
       "      <td>17.145663</td>\n",
       "      <td>1</td>\n",
       "      <td>99</td>\n",
       "      <td>11.823702</td>\n",
       "      <td>1.0</td>\n",
       "      <td>99999.0</td>\n",
       "    </tr>\n",
       "    <tr>\n",
       "      <th>65_up</th>\n",
       "      <td>17.098243</td>\n",
       "      <td>1</td>\n",
       "      <td>99</td>\n",
       "      <td>11.768850</td>\n",
       "      <td>1.0</td>\n",
       "      <td>99999.0</td>\n",
       "    </tr>\n",
       "  </tbody>\n",
       "</table>\n",
       "</div>"
      ],
      "text/plain": [
       "          order_number             prices              \n",
       "                  mean min max       mean  min      max\n",
       "age_group                                              \n",
       "18-29        17.107372   1  99  12.171977  1.0  99999.0\n",
       "30-39        17.244223   1  99  11.933288  1.0  99999.0\n",
       "40-49        17.151719   1  99  12.384515  1.0  99999.0\n",
       "50-64        17.145663   1  99  11.823702  1.0  99999.0\n",
       "65_up        17.098243   1  99  11.768850  1.0  99999.0"
      ]
     },
     "execution_count": 12,
     "metadata": {},
     "output_type": "execute_result"
    }
   ],
   "source": [
    "#View Result\n",
    "Age_group_agg"
   ]
  },
  {
   "cell_type": "code",
   "execution_count": 13,
   "id": "264b7aef",
   "metadata": {},
   "outputs": [],
   "source": [
    "##Income Groups\n",
    "#Aggregate the max, mean, and min variables of income groups for order_number and prices \n",
    "income_group_agg = merged.groupby('income_group').agg({'order_number': ['mean', 'min', 'max'],  'prices': ['mean', 'min', 'max']})"
   ]
  },
  {
   "cell_type": "code",
   "execution_count": 14,
   "id": "dae8a423",
   "metadata": {},
   "outputs": [
    {
     "data": {
      "text/html": [
       "<div>\n",
       "<style scoped>\n",
       "    .dataframe tbody tr th:only-of-type {\n",
       "        vertical-align: middle;\n",
       "    }\n",
       "\n",
       "    .dataframe tbody tr th {\n",
       "        vertical-align: top;\n",
       "    }\n",
       "\n",
       "    .dataframe thead tr th {\n",
       "        text-align: left;\n",
       "    }\n",
       "\n",
       "    .dataframe thead tr:last-of-type th {\n",
       "        text-align: right;\n",
       "    }\n",
       "</style>\n",
       "<table border=\"1\" class=\"dataframe\">\n",
       "  <thead>\n",
       "    <tr>\n",
       "      <th></th>\n",
       "      <th colspan=\"3\" halign=\"left\">order_number</th>\n",
       "      <th colspan=\"3\" halign=\"left\">prices</th>\n",
       "    </tr>\n",
       "    <tr>\n",
       "      <th></th>\n",
       "      <th>mean</th>\n",
       "      <th>min</th>\n",
       "      <th>max</th>\n",
       "      <th>mean</th>\n",
       "      <th>min</th>\n",
       "      <th>max</th>\n",
       "    </tr>\n",
       "    <tr>\n",
       "      <th>income_group</th>\n",
       "      <th></th>\n",
       "      <th></th>\n",
       "      <th></th>\n",
       "      <th></th>\n",
       "      <th></th>\n",
       "      <th></th>\n",
       "    </tr>\n",
       "  </thead>\n",
       "  <tbody>\n",
       "    <tr>\n",
       "      <th>High Income</th>\n",
       "      <td>17.188468</td>\n",
       "      <td>1</td>\n",
       "      <td>99</td>\n",
       "      <td>9.830574</td>\n",
       "      <td>1.0</td>\n",
       "      <td>99999.0</td>\n",
       "    </tr>\n",
       "    <tr>\n",
       "      <th>Low Income</th>\n",
       "      <td>16.644854</td>\n",
       "      <td>1</td>\n",
       "      <td>99</td>\n",
       "      <td>7.291562</td>\n",
       "      <td>1.0</td>\n",
       "      <td>14900.0</td>\n",
       "    </tr>\n",
       "    <tr>\n",
       "      <th>Middle Income</th>\n",
       "      <td>17.435359</td>\n",
       "      <td>1</td>\n",
       "      <td>99</td>\n",
       "      <td>8.754814</td>\n",
       "      <td>1.0</td>\n",
       "      <td>99999.0</td>\n",
       "    </tr>\n",
       "    <tr>\n",
       "      <th>Very High Income</th>\n",
       "      <td>17.300576</td>\n",
       "      <td>1</td>\n",
       "      <td>99</td>\n",
       "      <td>22.044322</td>\n",
       "      <td>1.0</td>\n",
       "      <td>99999.0</td>\n",
       "    </tr>\n",
       "  </tbody>\n",
       "</table>\n",
       "</div>"
      ],
      "text/plain": [
       "                 order_number             prices              \n",
       "                         mean min max       mean  min      max\n",
       "income_group                                                  \n",
       "High Income         17.188468   1  99   9.830574  1.0  99999.0\n",
       "Low Income          16.644854   1  99   7.291562  1.0  14900.0\n",
       "Middle Income       17.435359   1  99   8.754814  1.0  99999.0\n",
       "Very High Income    17.300576   1  99  22.044322  1.0  99999.0"
      ]
     },
     "execution_count": 14,
     "metadata": {},
     "output_type": "execute_result"
    }
   ],
   "source": [
    "#View Result\n",
    "income_group_agg"
   ]
  },
  {
   "cell_type": "code",
   "execution_count": 15,
   "id": "c48c9721",
   "metadata": {},
   "outputs": [],
   "source": [
    "##Dept Labels\n",
    "#Aggregate the max, mean, and min variables of dept_labels for order_number and prices \n",
    "dept_label_agg = merged.groupby('dept_label').agg({'order_number': ['mean', 'min', 'max'],  'prices': ['mean', 'min', 'max']})"
   ]
  },
  {
   "cell_type": "code",
   "execution_count": 16,
   "id": "6e4a4692",
   "metadata": {},
   "outputs": [
    {
     "data": {
      "text/html": [
       "<div>\n",
       "<style scoped>\n",
       "    .dataframe tbody tr th:only-of-type {\n",
       "        vertical-align: middle;\n",
       "    }\n",
       "\n",
       "    .dataframe tbody tr th {\n",
       "        vertical-align: top;\n",
       "    }\n",
       "\n",
       "    .dataframe thead tr th {\n",
       "        text-align: left;\n",
       "    }\n",
       "\n",
       "    .dataframe thead tr:last-of-type th {\n",
       "        text-align: right;\n",
       "    }\n",
       "</style>\n",
       "<table border=\"1\" class=\"dataframe\">\n",
       "  <thead>\n",
       "    <tr>\n",
       "      <th></th>\n",
       "      <th colspan=\"3\" halign=\"left\">order_number</th>\n",
       "      <th colspan=\"3\" halign=\"left\">prices</th>\n",
       "    </tr>\n",
       "    <tr>\n",
       "      <th></th>\n",
       "      <th>mean</th>\n",
       "      <th>min</th>\n",
       "      <th>max</th>\n",
       "      <th>mean</th>\n",
       "      <th>min</th>\n",
       "      <th>max</th>\n",
       "    </tr>\n",
       "    <tr>\n",
       "      <th>dept_label</th>\n",
       "      <th></th>\n",
       "      <th></th>\n",
       "      <th></th>\n",
       "      <th></th>\n",
       "      <th></th>\n",
       "      <th></th>\n",
       "    </tr>\n",
       "  </thead>\n",
       "  <tbody>\n",
       "    <tr>\n",
       "      <th>Groceries</th>\n",
       "      <td>17.180117</td>\n",
       "      <td>1</td>\n",
       "      <td>99</td>\n",
       "      <td>12.587828</td>\n",
       "      <td>1.0</td>\n",
       "      <td>99999.0</td>\n",
       "    </tr>\n",
       "    <tr>\n",
       "      <th>Non_Groceries</th>\n",
       "      <td>16.774609</td>\n",
       "      <td>1</td>\n",
       "      <td>99</td>\n",
       "      <td>7.791567</td>\n",
       "      <td>1.0</td>\n",
       "      <td>15.0</td>\n",
       "    </tr>\n",
       "    <tr>\n",
       "      <th>Other</th>\n",
       "      <td>20.966444</td>\n",
       "      <td>1</td>\n",
       "      <td>99</td>\n",
       "      <td>8.085978</td>\n",
       "      <td>1.0</td>\n",
       "      <td>15.0</td>\n",
       "    </tr>\n",
       "  </tbody>\n",
       "</table>\n",
       "</div>"
      ],
      "text/plain": [
       "              order_number             prices              \n",
       "                      mean min max       mean  min      max\n",
       "dept_label                                                 \n",
       "Groceries        17.180117   1  99  12.587828  1.0  99999.0\n",
       "Non_Groceries    16.774609   1  99   7.791567  1.0     15.0\n",
       "Other            20.966444   1  99   8.085978  1.0     15.0"
      ]
     },
     "execution_count": 16,
     "metadata": {},
     "output_type": "execute_result"
    }
   ],
   "source": [
    "#View Result\n",
    "dept_label_agg"
   ]
  },
  {
   "cell_type": "code",
   "execution_count": 17,
   "id": "21d28ab2",
   "metadata": {},
   "outputs": [],
   "source": [
    "##number of dependants\n",
    "#Aggregate the max, mean, and min variables of n_dependants for order_number and prices \n",
    "n_dependants_group_agg = merged.groupby('n_dependants_group').agg({'order_number': ['mean', 'min', 'max'],  'prices': ['mean', 'min', 'max']})"
   ]
  },
  {
   "cell_type": "code",
   "execution_count": 18,
   "id": "94dd9390",
   "metadata": {
    "scrolled": true
   },
   "outputs": [
    {
     "data": {
      "text/html": [
       "<div>\n",
       "<style scoped>\n",
       "    .dataframe tbody tr th:only-of-type {\n",
       "        vertical-align: middle;\n",
       "    }\n",
       "\n",
       "    .dataframe tbody tr th {\n",
       "        vertical-align: top;\n",
       "    }\n",
       "\n",
       "    .dataframe thead tr th {\n",
       "        text-align: left;\n",
       "    }\n",
       "\n",
       "    .dataframe thead tr:last-of-type th {\n",
       "        text-align: right;\n",
       "    }\n",
       "</style>\n",
       "<table border=\"1\" class=\"dataframe\">\n",
       "  <thead>\n",
       "    <tr>\n",
       "      <th></th>\n",
       "      <th colspan=\"3\" halign=\"left\">order_number</th>\n",
       "      <th colspan=\"3\" halign=\"left\">prices</th>\n",
       "    </tr>\n",
       "    <tr>\n",
       "      <th></th>\n",
       "      <th>mean</th>\n",
       "      <th>min</th>\n",
       "      <th>max</th>\n",
       "      <th>mean</th>\n",
       "      <th>min</th>\n",
       "      <th>max</th>\n",
       "    </tr>\n",
       "    <tr>\n",
       "      <th>n_dependants_group</th>\n",
       "      <th></th>\n",
       "      <th></th>\n",
       "      <th></th>\n",
       "      <th></th>\n",
       "      <th></th>\n",
       "      <th></th>\n",
       "    </tr>\n",
       "  </thead>\n",
       "  <tbody>\n",
       "    <tr>\n",
       "      <th>Large Family</th>\n",
       "      <td>17.103375</td>\n",
       "      <td>1</td>\n",
       "      <td>99</td>\n",
       "      <td>12.080623</td>\n",
       "      <td>1.0</td>\n",
       "      <td>99999.0</td>\n",
       "    </tr>\n",
       "    <tr>\n",
       "      <th>Single Adult</th>\n",
       "      <td>17.264622</td>\n",
       "      <td>1</td>\n",
       "      <td>99</td>\n",
       "      <td>12.129243</td>\n",
       "      <td>1.0</td>\n",
       "      <td>99999.0</td>\n",
       "    </tr>\n",
       "    <tr>\n",
       "      <th>Young Parent</th>\n",
       "      <td>17.097906</td>\n",
       "      <td>1</td>\n",
       "      <td>99</td>\n",
       "      <td>11.629316</td>\n",
       "      <td>1.0</td>\n",
       "      <td>99999.0</td>\n",
       "    </tr>\n",
       "  </tbody>\n",
       "</table>\n",
       "</div>"
      ],
      "text/plain": [
       "                   order_number             prices              \n",
       "                           mean min max       mean  min      max\n",
       "n_dependants_group                                              \n",
       "Large Family          17.103375   1  99  12.080623  1.0  99999.0\n",
       "Single Adult          17.264622   1  99  12.129243  1.0  99999.0\n",
       "Young Parent          17.097906   1  99  11.629316  1.0  99999.0"
      ]
     },
     "execution_count": 18,
     "metadata": {},
     "output_type": "execute_result"
    }
   ],
   "source": [
    "#View Result\n",
    "n_dependants_group_agg"
   ]
  },
  {
   "cell_type": "markdown",
   "id": "9d024b08",
   "metadata": {},
   "source": [
    "4. Compare customer profiles with regions. Produce suitable charts to illustrate results."
   ]
  },
  {
   "cell_type": "code",
   "execution_count": 25,
   "id": "2ba3bfe5",
   "metadata": {},
   "outputs": [],
   "source": [
    "##Age x Region\n",
    "#Create a crosstab of 'Age Groups' and 'Region' columns\n",
    "crosstab_age_region = pd.crosstab(merged['age_group'], merged['region'], dropna = False)"
   ]
  },
  {
   "cell_type": "code",
   "execution_count": 26,
   "id": "9ff3838f",
   "metadata": {},
   "outputs": [
    {
     "data": {
      "text/html": [
       "<div>\n",
       "<style scoped>\n",
       "    .dataframe tbody tr th:only-of-type {\n",
       "        vertical-align: middle;\n",
       "    }\n",
       "\n",
       "    .dataframe tbody tr th {\n",
       "        vertical-align: top;\n",
       "    }\n",
       "\n",
       "    .dataframe thead th {\n",
       "        text-align: right;\n",
       "    }\n",
       "</style>\n",
       "<table border=\"1\" class=\"dataframe\">\n",
       "  <thead>\n",
       "    <tr style=\"text-align: right;\">\n",
       "      <th>region</th>\n",
       "      <th>Midwest</th>\n",
       "      <th>North East</th>\n",
       "      <th>South</th>\n",
       "      <th>West</th>\n",
       "    </tr>\n",
       "    <tr>\n",
       "      <th>age_group</th>\n",
       "      <th></th>\n",
       "      <th></th>\n",
       "      <th></th>\n",
       "      <th></th>\n",
       "    </tr>\n",
       "  </thead>\n",
       "  <tbody>\n",
       "    <tr>\n",
       "      <th>18-29</th>\n",
       "      <td>1420705</td>\n",
       "      <td>1070437</td>\n",
       "      <td>2052633</td>\n",
       "      <td>1546666</td>\n",
       "    </tr>\n",
       "    <tr>\n",
       "      <th>30-39</th>\n",
       "      <td>1180424</td>\n",
       "      <td>888917</td>\n",
       "      <td>1723110</td>\n",
       "      <td>1281300</td>\n",
       "    </tr>\n",
       "    <tr>\n",
       "      <th>40-49</th>\n",
       "      <td>1227062</td>\n",
       "      <td>900208</td>\n",
       "      <td>1677004</td>\n",
       "      <td>1304963</td>\n",
       "    </tr>\n",
       "    <tr>\n",
       "      <th>50-64</th>\n",
       "      <td>1778290</td>\n",
       "      <td>1309271</td>\n",
       "      <td>2502881</td>\n",
       "      <td>1965904</td>\n",
       "    </tr>\n",
       "    <tr>\n",
       "      <th>65_up</th>\n",
       "      <td>1990844</td>\n",
       "      <td>1553903</td>\n",
       "      <td>2836257</td>\n",
       "      <td>2194080</td>\n",
       "    </tr>\n",
       "  </tbody>\n",
       "</table>\n",
       "</div>"
      ],
      "text/plain": [
       "region     Midwest  North East    South     West\n",
       "age_group                                       \n",
       "18-29      1420705     1070437  2052633  1546666\n",
       "30-39      1180424      888917  1723110  1281300\n",
       "40-49      1227062      900208  1677004  1304963\n",
       "50-64      1778290     1309271  2502881  1965904\n",
       "65_up      1990844     1553903  2836257  2194080"
      ]
     },
     "execution_count": 26,
     "metadata": {},
     "output_type": "execute_result"
    }
   ],
   "source": [
    "#View crosstab\n",
    "crosstab_age_region"
   ]
  },
  {
   "cell_type": "code",
   "execution_count": 28,
   "id": "10438b60",
   "metadata": {
    "scrolled": false
   },
   "outputs": [
    {
     "data": {
      "text/plain": [
       "<matplotlib.legend.Legend at 0x1bff5da3050>"
      ]
     },
     "execution_count": 28,
     "metadata": {},
     "output_type": "execute_result"
    },
    {
     "data": {
      "image/png": "[encoded data removed]",
      "text/plain": [
       "<Figure size 640x480 with 1 Axes>"
      ]
     },
     "metadata": {},
     "output_type": "display_data"
    }
   ],
   "source": [
    "#Create bar chart of this crosstab (Age x Region)\n",
    "region_age_bar = crosstab_age_region.plot.bar()\n",
    "plt.xlabel(\"Age\", fontsize=10)\n",
    "plt.title(\"Age By Region\",fontsize=12)\n",
    "plt.legend(loc='center left', bbox_to_anchor=(1.0, 0.5))"
   ]
  },
  {
   "cell_type": "code",
   "execution_count": 29,
   "id": "a4a1da86",
   "metadata": {},
   "outputs": [],
   "source": [
    "#Export bar graph\n",
    "region_age_bar.figure.savefig(os.path.join(path, '04 Analysis','Visualizations', 'region_age_bar.png'))"
   ]
  },
  {
   "cell_type": "code",
   "execution_count": 30,
   "id": "b421aed4",
   "metadata": {},
   "outputs": [],
   "source": [
    "##Income x Region\n",
    "#Create a crosstab of 'Income Groups' and 'Region' columns\n",
    "crosstab_income_region = pd.crosstab(merged['income_group'], merged['region'], dropna = False)"
   ]
  },
  {
   "cell_type": "code",
   "execution_count": 31,
   "id": "c5d3a841",
   "metadata": {},
   "outputs": [
    {
     "data": {
      "text/html": [
       "<div>\n",
       "<style scoped>\n",
       "    .dataframe tbody tr th:only-of-type {\n",
       "        vertical-align: middle;\n",
       "    }\n",
       "\n",
       "    .dataframe tbody tr th {\n",
       "        vertical-align: top;\n",
       "    }\n",
       "\n",
       "    .dataframe thead th {\n",
       "        text-align: right;\n",
       "    }\n",
       "</style>\n",
       "<table border=\"1\" class=\"dataframe\">\n",
       "  <thead>\n",
       "    <tr style=\"text-align: right;\">\n",
       "      <th>region</th>\n",
       "      <th>Midwest</th>\n",
       "      <th>North East</th>\n",
       "      <th>South</th>\n",
       "      <th>West</th>\n",
       "    </tr>\n",
       "    <tr>\n",
       "      <th>income_group</th>\n",
       "      <th></th>\n",
       "      <th></th>\n",
       "      <th></th>\n",
       "      <th></th>\n",
       "    </tr>\n",
       "  </thead>\n",
       "  <tbody>\n",
       "    <tr>\n",
       "      <th>High Income</th>\n",
       "      <td>1934891</td>\n",
       "      <td>1432106</td>\n",
       "      <td>2650186</td>\n",
       "      <td>2084018</td>\n",
       "    </tr>\n",
       "    <tr>\n",
       "      <th>Low Income</th>\n",
       "      <td>1876433</td>\n",
       "      <td>1429459</td>\n",
       "      <td>2716231</td>\n",
       "      <td>2079521</td>\n",
       "    </tr>\n",
       "    <tr>\n",
       "      <th>Middle Income</th>\n",
       "      <td>1857958</td>\n",
       "      <td>1420315</td>\n",
       "      <td>2759213</td>\n",
       "      <td>2063490</td>\n",
       "    </tr>\n",
       "    <tr>\n",
       "      <th>Very High Income</th>\n",
       "      <td>1928043</td>\n",
       "      <td>1440856</td>\n",
       "      <td>2666255</td>\n",
       "      <td>2065884</td>\n",
       "    </tr>\n",
       "  </tbody>\n",
       "</table>\n",
       "</div>"
      ],
      "text/plain": [
       "region            Midwest  North East    South     West\n",
       "income_group                                           \n",
       "High Income       1934891     1432106  2650186  2084018\n",
       "Low Income        1876433     1429459  2716231  2079521\n",
       "Middle Income     1857958     1420315  2759213  2063490\n",
       "Very High Income  1928043     1440856  2666255  2065884"
      ]
     },
     "execution_count": 31,
     "metadata": {},
     "output_type": "execute_result"
    }
   ],
   "source": [
    "#View crosstab\n",
    "crosstab_income_region"
   ]
  },
  {
   "cell_type": "code",
   "execution_count": 32,
   "id": "a2e51878",
   "metadata": {},
   "outputs": [
    {
     "data": {
      "text/plain": [
       "<matplotlib.legend.Legend at 0x1bff5e9b7d0>"
      ]
     },
     "execution_count": 32,
     "metadata": {},
     "output_type": "execute_result"
    },
    {
     "data": {
      "image/png": "[encoded data removed]",
      "text/plain": [
       "<Figure size 640x480 with 1 Axes>"
      ]
     },
     "metadata": {},
     "output_type": "display_data"
    }
   ],
   "source": [
    "#Create bar chart of this crosstab (Income x Region)\n",
    "region_income_bar = crosstab_income_region.plot.bar()\n",
    "plt.xlabel(\"Income\", fontsize=10)\n",
    "plt.title(\"Income By Region\",fontsize=12)\n",
    "plt.legend(loc='center left', bbox_to_anchor=(1.0, 0.5))"
   ]
  },
  {
   "cell_type": "code",
   "execution_count": 33,
   "id": "5755fee9",
   "metadata": {},
   "outputs": [],
   "source": [
    "#Export bar graph\n",
    "region_income_bar.figure.savefig(os.path.join(path, '04 Analysis','Visualizations', 'region_income_bar.png'))"
   ]
  },
  {
   "cell_type": "code",
   "execution_count": 34,
   "id": "c8cd910a",
   "metadata": {},
   "outputs": [],
   "source": [
    "##Dependants x Region\n",
    "#Create a crosstab of 'Dependants Groups' and 'Region' columns\n",
    "crosstab_dependants_region = pd.crosstab(merged['n_dependants_group'], merged['region'], dropna = False)"
   ]
  },
  {
   "cell_type": "code",
   "execution_count": 56,
   "id": "bbd86e98",
   "metadata": {},
   "outputs": [
    {
     "data": {
      "text/html": [
       "<div>\n",
       "<style scoped>\n",
       "    .dataframe tbody tr th:only-of-type {\n",
       "        vertical-align: middle;\n",
       "    }\n",
       "\n",
       "    .dataframe tbody tr th {\n",
       "        vertical-align: top;\n",
       "    }\n",
       "\n",
       "    .dataframe thead th {\n",
       "        text-align: right;\n",
       "    }\n",
       "</style>\n",
       "<table border=\"1\" class=\"dataframe\">\n",
       "  <thead>\n",
       "    <tr style=\"text-align: right;\">\n",
       "      <th>region</th>\n",
       "      <th>Midwest</th>\n",
       "      <th>North East</th>\n",
       "      <th>South</th>\n",
       "      <th>West</th>\n",
       "    </tr>\n",
       "    <tr>\n",
       "      <th>n_dependants_group</th>\n",
       "      <th></th>\n",
       "      <th></th>\n",
       "      <th></th>\n",
       "      <th></th>\n",
       "    </tr>\n",
       "  </thead>\n",
       "  <tbody>\n",
       "    <tr>\n",
       "      <th>Large Family</th>\n",
       "      <td>3765653</td>\n",
       "      <td>2862182</td>\n",
       "      <td>5430496</td>\n",
       "      <td>4167921</td>\n",
       "    </tr>\n",
       "    <tr>\n",
       "      <th>Single Adult</th>\n",
       "      <td>1905200</td>\n",
       "      <td>1418301</td>\n",
       "      <td>2701659</td>\n",
       "      <td>2072343</td>\n",
       "    </tr>\n",
       "    <tr>\n",
       "      <th>Young Parent</th>\n",
       "      <td>1926472</td>\n",
       "      <td>1442253</td>\n",
       "      <td>2659730</td>\n",
       "      <td>2052649</td>\n",
       "    </tr>\n",
       "  </tbody>\n",
       "</table>\n",
       "</div>"
      ],
      "text/plain": [
       "region              Midwest  North East    South     West\n",
       "n_dependants_group                                       \n",
       "Large Family        3765653     2862182  5430496  4167921\n",
       "Single Adult        1905200     1418301  2701659  2072343\n",
       "Young Parent        1926472     1442253  2659730  2052649"
      ]
     },
     "execution_count": 56,
     "metadata": {},
     "output_type": "execute_result"
    }
   ],
   "source": [
    "#View crosstab\n",
    "crosstab_dependants_region"
   ]
  },
  {
   "cell_type": "code",
   "execution_count": 57,
   "id": "0eebda15",
   "metadata": {},
   "outputs": [
    {
     "data": {
      "text/plain": [
       "<matplotlib.legend.Legend at 0x1bffba50290>"
      ]
     },
     "execution_count": 57,
     "metadata": {},
     "output_type": "execute_result"
    },
    {
     "data": {
      "image/png": "[encoded data removed]",
      "text/plain": [
       "<Figure size 640x480 with 1 Axes>"
      ]
     },
     "metadata": {},
     "output_type": "display_data"
    }
   ],
   "source": [
    "#Create bar chart of this crosstab (Dependants x Region)\n",
    "region_dependants_bar = crosstab_dependants_region.plot.bar()\n",
    "plt.xlabel(\"Number of Dependants\", fontsize=10)\n",
    "plt.title(\"Number of Dependants By Region\",fontsize=12)\n",
    "plt.legend(loc='center left', bbox_to_anchor=(1.0, 0.5))"
   ]
  },
  {
   "cell_type": "code",
   "execution_count": 58,
   "id": "0365afd8",
   "metadata": {},
   "outputs": [],
   "source": [
    "#Export bar graph\n",
    "region_dependants_bar.figure.savefig(os.path.join(path, '04 Analysis','Visualizations', 'region_dependants_bar.png'))"
   ]
  },
  {
   "cell_type": "code",
   "execution_count": 38,
   "id": "9b1e7d8d",
   "metadata": {},
   "outputs": [],
   "source": [
    "##Dept_Label x Region\n",
    "#Create a crosstab of 'Dept_Label' and 'Region' columns\n",
    "crosstab_dept_region = pd.crosstab(merged['dept_label'], merged['region'], dropna = False)"
   ]
  },
  {
   "cell_type": "code",
   "execution_count": 59,
   "id": "669475e1",
   "metadata": {},
   "outputs": [
    {
     "data": {
      "text/html": [
       "<div>\n",
       "<style scoped>\n",
       "    .dataframe tbody tr th:only-of-type {\n",
       "        vertical-align: middle;\n",
       "    }\n",
       "\n",
       "    .dataframe tbody tr th {\n",
       "        vertical-align: top;\n",
       "    }\n",
       "\n",
       "    .dataframe thead th {\n",
       "        text-align: right;\n",
       "    }\n",
       "</style>\n",
       "<table border=\"1\" class=\"dataframe\">\n",
       "  <thead>\n",
       "    <tr style=\"text-align: right;\">\n",
       "      <th>region</th>\n",
       "      <th>Midwest</th>\n",
       "      <th>North East</th>\n",
       "      <th>South</th>\n",
       "      <th>West</th>\n",
       "    </tr>\n",
       "    <tr>\n",
       "      <th>dept_label</th>\n",
       "      <th></th>\n",
       "      <th></th>\n",
       "      <th></th>\n",
       "      <th></th>\n",
       "    </tr>\n",
       "  </thead>\n",
       "  <tbody>\n",
       "    <tr>\n",
       "      <th>Groceries</th>\n",
       "      <td>6632117</td>\n",
       "      <td>4994131</td>\n",
       "      <td>9424305</td>\n",
       "      <td>7242704</td>\n",
       "    </tr>\n",
       "    <tr>\n",
       "      <th>Non_Groceries</th>\n",
       "      <td>940253</td>\n",
       "      <td>709646</td>\n",
       "      <td>1332175</td>\n",
       "      <td>1024092</td>\n",
       "    </tr>\n",
       "    <tr>\n",
       "      <th>Other</th>\n",
       "      <td>24955</td>\n",
       "      <td>18959</td>\n",
       "      <td>35405</td>\n",
       "      <td>26117</td>\n",
       "    </tr>\n",
       "  </tbody>\n",
       "</table>\n",
       "</div>"
      ],
      "text/plain": [
       "region         Midwest  North East    South     West\n",
       "dept_label                                          \n",
       "Groceries      6632117     4994131  9424305  7242704\n",
       "Non_Groceries   940253      709646  1332175  1024092\n",
       "Other            24955       18959    35405    26117"
      ]
     },
     "execution_count": 59,
     "metadata": {},
     "output_type": "execute_result"
    }
   ],
   "source": [
    "#View crosstab\n",
    "crosstab_dept_region"
   ]
  },
  {
   "cell_type": "code",
   "execution_count": 60,
   "id": "53f2b9f0",
   "metadata": {},
   "outputs": [
    {
     "data": {
      "text/plain": [
       "<matplotlib.legend.Legend at 0x1bffb80db50>"
      ]
     },
     "execution_count": 60,
     "metadata": {},
     "output_type": "execute_result"
    },
    {
     "data": {
      "image/png": "[encoded data removed]",
      "text/plain": [
       "<Figure size 640x480 with 1 Axes>"
      ]
     },
     "metadata": {},
     "output_type": "display_data"
    }
   ],
   "source": [
    "#Create bar chart of this crosstab (Departments x Region)\n",
    "region_dept_bar = crosstab_dept_region.plot.bar()\n",
    "plt.xlabel(\"Departments\", fontsize=10)\n",
    "plt.title(\"Department Purchases By Region\",fontsize=12)\n",
    "plt.legend(loc='center left', bbox_to_anchor=(1.0, 0.5))"
   ]
  },
  {
   "cell_type": "code",
   "execution_count": 61,
   "id": "e2a4c0bc",
   "metadata": {},
   "outputs": [],
   "source": [
    "#Export bar graph\n",
    "region_dept_bar.figure.savefig(os.path.join(path, '04 Analysis','Visualizations', 'region_dept_bar.png'))"
   ]
  },
  {
   "cell_type": "markdown",
   "id": "3ba864ba",
   "metadata": {},
   "source": [
    "5. Compare customer profiles with departments. Produce suitable charts to illustrate results."
   ]
  },
  {
   "cell_type": "code",
   "execution_count": 45,
   "id": "9a09de00",
   "metadata": {},
   "outputs": [],
   "source": [
    "##Age x Department\n",
    "#Create a crosstab of 'Age' and 'Dept_Label' columns\n",
    "crosstab_age_dept = pd.crosstab(merged['age_group'], merged['dept_label'], dropna = False)"
   ]
  },
  {
   "cell_type": "code",
   "execution_count": 46,
   "id": "a683eed6",
   "metadata": {},
   "outputs": [
    {
     "data": {
      "text/html": [
       "<div>\n",
       "<style scoped>\n",
       "    .dataframe tbody tr th:only-of-type {\n",
       "        vertical-align: middle;\n",
       "    }\n",
       "\n",
       "    .dataframe tbody tr th {\n",
       "        vertical-align: top;\n",
       "    }\n",
       "\n",
       "    .dataframe thead th {\n",
       "        text-align: right;\n",
       "    }\n",
       "</style>\n",
       "<table border=\"1\" class=\"dataframe\">\n",
       "  <thead>\n",
       "    <tr style=\"text-align: right;\">\n",
       "      <th>dept_label</th>\n",
       "      <th>Groceries</th>\n",
       "      <th>Non_Groceries</th>\n",
       "      <th>Other</th>\n",
       "    </tr>\n",
       "    <tr>\n",
       "      <th>age_group</th>\n",
       "      <th></th>\n",
       "      <th></th>\n",
       "      <th></th>\n",
       "    </tr>\n",
       "  </thead>\n",
       "  <tbody>\n",
       "    <tr>\n",
       "      <th>18-29</th>\n",
       "      <td>5312986</td>\n",
       "      <td>756865</td>\n",
       "      <td>20590</td>\n",
       "    </tr>\n",
       "    <tr>\n",
       "      <th>30-39</th>\n",
       "      <td>4433523</td>\n",
       "      <td>624044</td>\n",
       "      <td>16184</td>\n",
       "    </tr>\n",
       "    <tr>\n",
       "      <th>40-49</th>\n",
       "      <td>4456832</td>\n",
       "      <td>635663</td>\n",
       "      <td>16742</td>\n",
       "    </tr>\n",
       "    <tr>\n",
       "      <th>50-64</th>\n",
       "      <td>6595598</td>\n",
       "      <td>936347</td>\n",
       "      <td>24401</td>\n",
       "    </tr>\n",
       "    <tr>\n",
       "      <th>65_up</th>\n",
       "      <td>7494318</td>\n",
       "      <td>1053247</td>\n",
       "      <td>27519</td>\n",
       "    </tr>\n",
       "  </tbody>\n",
       "</table>\n",
       "</div>"
      ],
      "text/plain": [
       "dept_label  Groceries  Non_Groceries  Other\n",
       "age_group                                  \n",
       "18-29         5312986         756865  20590\n",
       "30-39         4433523         624044  16184\n",
       "40-49         4456832         635663  16742\n",
       "50-64         6595598         936347  24401\n",
       "65_up         7494318        1053247  27519"
      ]
     },
     "execution_count": 46,
     "metadata": {},
     "output_type": "execute_result"
    }
   ],
   "source": [
    "#View crosstab\n",
    "crosstab_age_dept"
   ]
  },
  {
   "cell_type": "code",
   "execution_count": 47,
   "id": "871508c9",
   "metadata": {},
   "outputs": [
    {
     "data": {
      "text/plain": [
       "<matplotlib.legend.Legend at 0x1bff66ffe10>"
      ]
     },
     "execution_count": 47,
     "metadata": {},
     "output_type": "execute_result"
    },
    {
     "data": {
      "image/png": "[encoded data removed]",
      "text/plain": [
       "<Figure size 640x480 with 1 Axes>"
      ]
     },
     "metadata": {},
     "output_type": "display_data"
    }
   ],
   "source": [
    "#Create bar chart of this crosstab (Age Group x Dept)\n",
    "age_dept_bar = crosstab_age_dept.plot.bar()\n",
    "plt.xlabel(\"Age Group\", fontsize=10)\n",
    "plt.title(\"Age Groups by Department\",fontsize=12)\n",
    "plt.legend(loc='center left', bbox_to_anchor=(1.0, 0.5))"
   ]
  },
  {
   "cell_type": "code",
   "execution_count": 48,
   "id": "91ec3a62",
   "metadata": {},
   "outputs": [],
   "source": [
    "#Export bar graph\n",
    "age_dept_bar.figure.savefig(os.path.join(path, '04 Analysis','Visualizations', 'age_dept_bar.png'))"
   ]
  },
  {
   "cell_type": "code",
   "execution_count": 49,
   "id": "5c78e1b6",
   "metadata": {},
   "outputs": [],
   "source": [
    "##Income x Department\n",
    "#Create a crosstab of 'Income' and 'Dept_Label' columns\n",
    "crosstab_income_dept = pd.crosstab(merged['income_group'], merged['dept_label'], dropna = False)"
   ]
  },
  {
   "cell_type": "code",
   "execution_count": 50,
   "id": "915d6c9b",
   "metadata": {
    "scrolled": true
   },
   "outputs": [
    {
     "data": {
      "text/html": [
       "<div>\n",
       "<style scoped>\n",
       "    .dataframe tbody tr th:only-of-type {\n",
       "        vertical-align: middle;\n",
       "    }\n",
       "\n",
       "    .dataframe tbody tr th {\n",
       "        vertical-align: top;\n",
       "    }\n",
       "\n",
       "    .dataframe thead th {\n",
       "        text-align: right;\n",
       "    }\n",
       "</style>\n",
       "<table border=\"1\" class=\"dataframe\">\n",
       "  <thead>\n",
       "    <tr style=\"text-align: right;\">\n",
       "      <th>dept_label</th>\n",
       "      <th>Groceries</th>\n",
       "      <th>Non_Groceries</th>\n",
       "      <th>Other</th>\n",
       "    </tr>\n",
       "    <tr>\n",
       "      <th>income_group</th>\n",
       "      <th></th>\n",
       "      <th></th>\n",
       "      <th></th>\n",
       "    </tr>\n",
       "  </thead>\n",
       "  <tbody>\n",
       "    <tr>\n",
       "      <th>High Income</th>\n",
       "      <td>7077365</td>\n",
       "      <td>998002</td>\n",
       "      <td>25834</td>\n",
       "    </tr>\n",
       "    <tr>\n",
       "      <th>Low Income</th>\n",
       "      <td>7082957</td>\n",
       "      <td>992549</td>\n",
       "      <td>26138</td>\n",
       "    </tr>\n",
       "    <tr>\n",
       "      <th>Middle Income</th>\n",
       "      <td>7077852</td>\n",
       "      <td>996265</td>\n",
       "      <td>26859</td>\n",
       "    </tr>\n",
       "    <tr>\n",
       "      <th>Very High Income</th>\n",
       "      <td>7055083</td>\n",
       "      <td>1019350</td>\n",
       "      <td>26605</td>\n",
       "    </tr>\n",
       "  </tbody>\n",
       "</table>\n",
       "</div>"
      ],
      "text/plain": [
       "dept_label        Groceries  Non_Groceries  Other\n",
       "income_group                                     \n",
       "High Income         7077365         998002  25834\n",
       "Low Income          7082957         992549  26138\n",
       "Middle Income       7077852         996265  26859\n",
       "Very High Income    7055083        1019350  26605"
      ]
     },
     "execution_count": 50,
     "metadata": {},
     "output_type": "execute_result"
    }
   ],
   "source": [
    "#View crosstab\n",
    "crosstab_income_dept"
   ]
  },
  {
   "cell_type": "code",
   "execution_count": 51,
   "id": "2fbce181",
   "metadata": {},
   "outputs": [
    {
     "data": {
      "text/plain": [
       "<matplotlib.legend.Legend at 0x1bff6748a10>"
      ]
     },
     "execution_count": 51,
     "metadata": {},
     "output_type": "execute_result"
    },
    {
     "data": {
      "image/png": "[encoded data removed]",
      "text/plain": [
       "<Figure size 640x480 with 1 Axes>"
      ]
     },
     "metadata": {},
     "output_type": "display_data"
    }
   ],
   "source": [
    "#Create bar chart of this crosstab (Income Group x Dept)\n",
    "income_dept_bar = crosstab_income_dept.plot.bar()\n",
    "plt.xlabel(\"Income Group\", fontsize=10)\n",
    "plt.title(\"Income Groups by Department\",fontsize=12)\n",
    "plt.legend(loc='center left', bbox_to_anchor=(1.0, 0.5))"
   ]
  },
  {
   "cell_type": "code",
   "execution_count": 52,
   "id": "44d9206d",
   "metadata": {},
   "outputs": [],
   "source": [
    "#Export bar graph\n",
    "income_dept_bar.figure.savefig(os.path.join(path, '04 Analysis','Visualizations', 'income_dept_bar.png'))"
   ]
  },
  {
   "cell_type": "code",
   "execution_count": 53,
   "id": "f23ab49e",
   "metadata": {},
   "outputs": [],
   "source": [
    "##Dependants x Department\n",
    "#Create a crosstab of 'Dependants' and 'Dept_Label' columns\n",
    "crosstab_dependants_dept = pd.crosstab(merged['n_dependants_group'], merged['dept_label'], dropna = False)"
   ]
  },
  {
   "cell_type": "code",
   "execution_count": 54,
   "id": "6337f095",
   "metadata": {},
   "outputs": [
    {
     "data": {
      "text/html": [
       "<div>\n",
       "<style scoped>\n",
       "    .dataframe tbody tr th:only-of-type {\n",
       "        vertical-align: middle;\n",
       "    }\n",
       "\n",
       "    .dataframe tbody tr th {\n",
       "        vertical-align: top;\n",
       "    }\n",
       "\n",
       "    .dataframe thead th {\n",
       "        text-align: right;\n",
       "    }\n",
       "</style>\n",
       "<table border=\"1\" class=\"dataframe\">\n",
       "  <thead>\n",
       "    <tr style=\"text-align: right;\">\n",
       "      <th>dept_label</th>\n",
       "      <th>Groceries</th>\n",
       "      <th>Non_Groceries</th>\n",
       "      <th>Other</th>\n",
       "    </tr>\n",
       "    <tr>\n",
       "      <th>n_dependants_group</th>\n",
       "      <th></th>\n",
       "      <th></th>\n",
       "      <th></th>\n",
       "    </tr>\n",
       "  </thead>\n",
       "  <tbody>\n",
       "    <tr>\n",
       "      <th>Large Family</th>\n",
       "      <td>14168414</td>\n",
       "      <td>2004983</td>\n",
       "      <td>52855</td>\n",
       "    </tr>\n",
       "    <tr>\n",
       "      <th>Single Adult</th>\n",
       "      <td>7071571</td>\n",
       "      <td>999669</td>\n",
       "      <td>26263</td>\n",
       "    </tr>\n",
       "    <tr>\n",
       "      <th>Young Parent</th>\n",
       "      <td>7053272</td>\n",
       "      <td>1001514</td>\n",
       "      <td>26318</td>\n",
       "    </tr>\n",
       "  </tbody>\n",
       "</table>\n",
       "</div>"
      ],
      "text/plain": [
       "dept_label          Groceries  Non_Groceries  Other\n",
       "n_dependants_group                                 \n",
       "Large Family         14168414        2004983  52855\n",
       "Single Adult          7071571         999669  26263\n",
       "Young Parent          7053272        1001514  26318"
      ]
     },
     "execution_count": 54,
     "metadata": {},
     "output_type": "execute_result"
    }
   ],
   "source": [
    "#View crosstab\n",
    "crosstab_dependants_dept"
   ]
  },
  {
   "cell_type": "code",
   "execution_count": 55,
   "id": "ce6dcfe0",
   "metadata": {},
   "outputs": [
    {
     "data": {
      "text/plain": [
       "<matplotlib.legend.Legend at 0x1bffb7a5050>"
      ]
     },
     "execution_count": 55,
     "metadata": {},
     "output_type": "execute_result"
    },
    {
     "data": {
      "image/png": "[encoded data removed]",
      "text/plain": [
       "<Figure size 640x480 with 1 Axes>"
      ]
     },
     "metadata": {},
     "output_type": "display_data"
    }
   ],
   "source": [
    "#Create bar chart of this crosstab (Dependants Group x Dept)\n",
    "dependants_dept_bar = crosstab_dependants_dept.plot.bar()\n",
    "plt.xlabel(\"Dependants Group\", fontsize=10)\n",
    "plt.title(\"Dependants Groups by Department\",fontsize=12)\n",
    "plt.legend(loc='center left', bbox_to_anchor=(1.0, 0.5))"
   ]
  },
  {
   "cell_type": "markdown",
   "id": "f6696490",
   "metadata": {},
   "source": [
    "Compare your customer profiles with regions and departments. Can you identify a link between them?"
   ]
  },
  {
   "cell_type": "markdown",
   "id": "c4216d95",
   "metadata": {},
   "source": [
    "In general, the South has a larger customer base than the other regions and are therefore responsible for more orders\n",
    "than any other region. Large families also buy more than those with 0 or 1 dependant. However, some of this data and graphs\n",
    "that were created are slightly hard to interpret as this data is not broken down on a 'per customer' level. The South makes more\n",
    "purchases by dept and more purchases by dependant group but they also have more people using Instacart so this is expected. It's\n",
    "therefore hard to see if they are spending more or buying more as dependant group on a 'per customer' level."
   ]
  }
 ],
 "metadata": {
  "kernelspec": {
   "display_name": "Python 3 (ipykernel)",
   "language": "python",
   "name": "python3"
  },
  "language_info": {
   "codemirror_mode": {
    "name": "ipython",
    "version": 3
   },
   "file_extension": ".py",
   "mimetype": "text/x-python",
   "name": "python",
   "nbconvert_exporter": "python",
   "pygments_lexer": "ipython3",
   "version": "3.11.4"
  }
 },
 "nbformat": 4,
 "nbformat_minor": 5
}
